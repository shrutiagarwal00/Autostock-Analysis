{
 "cells": [
  {
   "cell_type": "code",
   "execution_count": 1,
   "id": "6e029aee",
   "metadata": {},
   "outputs": [
    {
     "name": "stdout",
     "output_type": "stream",
     "text": [
      "Requirement already satisfied: pandas_datareader in /Users/shrutiagarwal/opt/anaconda3/lib/python3.9/site-packages (0.10.0)\n",
      "Requirement already satisfied: requests>=2.19.0 in /Users/shrutiagarwal/opt/anaconda3/lib/python3.9/site-packages (from pandas_datareader) (2.27.1)\n",
      "Requirement already satisfied: lxml in /Users/shrutiagarwal/opt/anaconda3/lib/python3.9/site-packages (from pandas_datareader) (4.8.0)\n",
      "Requirement already satisfied: pandas>=0.23 in /Users/shrutiagarwal/opt/anaconda3/lib/python3.9/site-packages (from pandas_datareader) (1.5.0)\n",
      "Requirement already satisfied: python-dateutil>=2.8.1 in /Users/shrutiagarwal/opt/anaconda3/lib/python3.9/site-packages (from pandas>=0.23->pandas_datareader) (2.8.2)\n",
      "Requirement already satisfied: pytz>=2020.1 in /Users/shrutiagarwal/opt/anaconda3/lib/python3.9/site-packages (from pandas>=0.23->pandas_datareader) (2021.3)\n",
      "Requirement already satisfied: numpy>=1.20.3 in /Users/shrutiagarwal/opt/anaconda3/lib/python3.9/site-packages (from pandas>=0.23->pandas_datareader) (1.21.5)\n",
      "Requirement already satisfied: six>=1.5 in /Users/shrutiagarwal/opt/anaconda3/lib/python3.9/site-packages (from python-dateutil>=2.8.1->pandas>=0.23->pandas_datareader) (1.16.0)\n",
      "Requirement already satisfied: certifi>=2017.4.17 in /Users/shrutiagarwal/opt/anaconda3/lib/python3.9/site-packages (from requests>=2.19.0->pandas_datareader) (2021.10.8)\n",
      "Requirement already satisfied: idna<4,>=2.5 in /Users/shrutiagarwal/opt/anaconda3/lib/python3.9/site-packages (from requests>=2.19.0->pandas_datareader) (3.3)\n",
      "Requirement already satisfied: charset-normalizer~=2.0.0 in /Users/shrutiagarwal/opt/anaconda3/lib/python3.9/site-packages (from requests>=2.19.0->pandas_datareader) (2.0.4)\n",
      "Requirement already satisfied: urllib3<1.27,>=1.21.1 in /Users/shrutiagarwal/opt/anaconda3/lib/python3.9/site-packages (from requests>=2.19.0->pandas_datareader) (1.26.9)\n",
      "Note: you may need to restart the kernel to use updated packages.\n"
     ]
    }
   ],
   "source": [
    "pip install pandas_datareader"
   ]
  },
  {
   "cell_type": "code",
   "execution_count": 2,
   "id": "4e4417b8",
   "metadata": {},
   "outputs": [
    {
     "name": "stdout",
     "output_type": "stream",
     "text": [
      "Requirement already satisfied: fix_yahoo_finance in /Users/shrutiagarwal/opt/anaconda3/lib/python3.9/site-packages (0.1.37)\n",
      "Requirement already satisfied: yfinance in /Users/shrutiagarwal/opt/anaconda3/lib/python3.9/site-packages (from fix_yahoo_finance) (0.1.75)\n",
      "Requirement already satisfied: pandas>=0.24.0 in /Users/shrutiagarwal/opt/anaconda3/lib/python3.9/site-packages (from yfinance->fix_yahoo_finance) (1.5.0)\n",
      "Requirement already satisfied: numpy>=1.15 in /Users/shrutiagarwal/opt/anaconda3/lib/python3.9/site-packages (from yfinance->fix_yahoo_finance) (1.21.5)\n",
      "Requirement already satisfied: lxml>=4.5.1 in /Users/shrutiagarwal/opt/anaconda3/lib/python3.9/site-packages (from yfinance->fix_yahoo_finance) (4.8.0)\n",
      "Requirement already satisfied: requests>=2.26 in /Users/shrutiagarwal/opt/anaconda3/lib/python3.9/site-packages (from yfinance->fix_yahoo_finance) (2.27.1)\n",
      "Requirement already satisfied: multitasking>=0.0.7 in /Users/shrutiagarwal/opt/anaconda3/lib/python3.9/site-packages (from yfinance->fix_yahoo_finance) (0.0.11)\n",
      "Requirement already satisfied: appdirs>=1.4.4 in /Users/shrutiagarwal/opt/anaconda3/lib/python3.9/site-packages (from yfinance->fix_yahoo_finance) (1.4.4)\n",
      "Requirement already satisfied: python-dateutil>=2.8.1 in /Users/shrutiagarwal/opt/anaconda3/lib/python3.9/site-packages (from pandas>=0.24.0->yfinance->fix_yahoo_finance) (2.8.2)\n",
      "Requirement already satisfied: pytz>=2020.1 in /Users/shrutiagarwal/opt/anaconda3/lib/python3.9/site-packages (from pandas>=0.24.0->yfinance->fix_yahoo_finance) (2021.3)\n",
      "Requirement already satisfied: six>=1.5 in /Users/shrutiagarwal/opt/anaconda3/lib/python3.9/site-packages (from python-dateutil>=2.8.1->pandas>=0.24.0->yfinance->fix_yahoo_finance) (1.16.0)\n",
      "Requirement already satisfied: idna<4,>=2.5 in /Users/shrutiagarwal/opt/anaconda3/lib/python3.9/site-packages (from requests>=2.26->yfinance->fix_yahoo_finance) (3.3)\n",
      "Requirement already satisfied: charset-normalizer~=2.0.0 in /Users/shrutiagarwal/opt/anaconda3/lib/python3.9/site-packages (from requests>=2.26->yfinance->fix_yahoo_finance) (2.0.4)\n",
      "Requirement already satisfied: certifi>=2017.4.17 in /Users/shrutiagarwal/opt/anaconda3/lib/python3.9/site-packages (from requests>=2.26->yfinance->fix_yahoo_finance) (2021.10.8)\n",
      "Requirement already satisfied: urllib3<1.27,>=1.21.1 in /Users/shrutiagarwal/opt/anaconda3/lib/python3.9/site-packages (from requests>=2.26->yfinance->fix_yahoo_finance) (1.26.9)\n",
      "Note: you may need to restart the kernel to use updated packages.\n"
     ]
    }
   ],
   "source": [
    "pip install fix_yahoo_finance"
   ]
  },
  {
   "cell_type": "code",
   "execution_count": 56,
   "id": "386d35f7",
   "metadata": {},
   "outputs": [],
   "source": [
    "import datetime\n",
    "import numpy as np\n",
    "import pandas as pd\n",
    "%matplotlib inline\n",
    "import pandas_datareader.data as web\n",
    "import fix_yahoo_finance as yf\n",
    "import seaborn as sns"
   ]
  },
  {
   "cell_type": "code",
   "execution_count": 82,
   "id": "eb06788a",
   "metadata": {},
   "outputs": [],
   "source": [
    "start_date = datetime.datetime(2017, 1, 1)\n",
    "end_date = datetime.datetime(2022, 10, 1)"
   ]
  },
  {
   "cell_type": "code",
   "execution_count": 83,
   "id": "8815dea6",
   "metadata": {
    "scrolled": false
   },
   "outputs": [
    {
     "name": "stdout",
     "output_type": "stream",
     "text": [
      "[*********************100%***********************]  1 of 1 completed\n"
     ]
    },
    {
     "data": {
      "text/html": [
       "<div>\n",
       "<style scoped>\n",
       "    .dataframe tbody tr th:only-of-type {\n",
       "        vertical-align: middle;\n",
       "    }\n",
       "\n",
       "    .dataframe tbody tr th {\n",
       "        vertical-align: top;\n",
       "    }\n",
       "\n",
       "    .dataframe thead th {\n",
       "        text-align: right;\n",
       "    }\n",
       "</style>\n",
       "<table border=\"1\" class=\"dataframe\">\n",
       "  <thead>\n",
       "    <tr style=\"text-align: right;\">\n",
       "      <th></th>\n",
       "      <th>Open</th>\n",
       "      <th>High</th>\n",
       "      <th>Low</th>\n",
       "      <th>Close</th>\n",
       "      <th>Adj Close</th>\n",
       "      <th>Volume</th>\n",
       "    </tr>\n",
       "    <tr>\n",
       "      <th>Date</th>\n",
       "      <th></th>\n",
       "      <th></th>\n",
       "      <th></th>\n",
       "      <th></th>\n",
       "      <th></th>\n",
       "      <th></th>\n",
       "    </tr>\n",
       "  </thead>\n",
       "  <tbody>\n",
       "    <tr>\n",
       "      <th>2017-01-03 00:00:00-05:00</th>\n",
       "      <td>59.160000</td>\n",
       "      <td>59.259998</td>\n",
       "      <td>58.349998</td>\n",
       "      <td>58.939999</td>\n",
       "      <td>56.381790</td>\n",
       "      <td>546700</td>\n",
       "    </tr>\n",
       "    <tr>\n",
       "      <th>2017-01-04 00:00:00-05:00</th>\n",
       "      <td>58.840000</td>\n",
       "      <td>59.480000</td>\n",
       "      <td>58.790001</td>\n",
       "      <td>59.410000</td>\n",
       "      <td>56.831390</td>\n",
       "      <td>373000</td>\n",
       "    </tr>\n",
       "    <tr>\n",
       "      <th>2017-01-05 00:00:00-05:00</th>\n",
       "      <td>59.439999</td>\n",
       "      <td>59.880001</td>\n",
       "      <td>59.341000</td>\n",
       "      <td>59.360001</td>\n",
       "      <td>56.783562</td>\n",
       "      <td>304800</td>\n",
       "    </tr>\n",
       "    <tr>\n",
       "      <th>2017-01-06 00:00:00-05:00</th>\n",
       "      <td>58.970001</td>\n",
       "      <td>59.160000</td>\n",
       "      <td>58.810001</td>\n",
       "      <td>58.939999</td>\n",
       "      <td>56.381790</td>\n",
       "      <td>280500</td>\n",
       "    </tr>\n",
       "    <tr>\n",
       "      <th>2017-01-09 00:00:00-05:00</th>\n",
       "      <td>57.770000</td>\n",
       "      <td>58.500000</td>\n",
       "      <td>57.560001</td>\n",
       "      <td>58.279999</td>\n",
       "      <td>55.750435</td>\n",
       "      <td>409300</td>\n",
       "    </tr>\n",
       "  </tbody>\n",
       "</table>\n",
       "</div>"
      ],
      "text/plain": [
       "                                Open       High        Low      Close  \\\n",
       "Date                                                                    \n",
       "2017-01-03 00:00:00-05:00  59.160000  59.259998  58.349998  58.939999   \n",
       "2017-01-04 00:00:00-05:00  58.840000  59.480000  58.790001  59.410000   \n",
       "2017-01-05 00:00:00-05:00  59.439999  59.880001  59.341000  59.360001   \n",
       "2017-01-06 00:00:00-05:00  58.970001  59.160000  58.810001  58.939999   \n",
       "2017-01-09 00:00:00-05:00  57.770000  58.500000  57.560001  58.279999   \n",
       "\n",
       "                           Adj Close  Volume  \n",
       "Date                                          \n",
       "2017-01-03 00:00:00-05:00  56.381790  546700  \n",
       "2017-01-04 00:00:00-05:00  56.831390  373000  \n",
       "2017-01-05 00:00:00-05:00  56.783562  304800  \n",
       "2017-01-06 00:00:00-05:00  56.381790  280500  \n",
       "2017-01-09 00:00:00-05:00  55.750435  409300  "
      ]
     },
     "execution_count": 83,
     "metadata": {},
     "output_type": "execute_result"
    }
   ],
   "source": [
    "RACE = yf.download('RACE', start_date, end_date)\n",
    "RACE.head()"
   ]
  },
  {
   "cell_type": "code",
   "execution_count": 84,
   "id": "f5355684",
   "metadata": {
    "scrolled": true
   },
   "outputs": [
    {
     "data": {
      "text/html": [
       "<div>\n",
       "<style scoped>\n",
       "    .dataframe tbody tr th:only-of-type {\n",
       "        vertical-align: middle;\n",
       "    }\n",
       "\n",
       "    .dataframe tbody tr th {\n",
       "        vertical-align: top;\n",
       "    }\n",
       "\n",
       "    .dataframe thead th {\n",
       "        text-align: right;\n",
       "    }\n",
       "</style>\n",
       "<table border=\"1\" class=\"dataframe\">\n",
       "  <thead>\n",
       "    <tr style=\"text-align: right;\">\n",
       "      <th></th>\n",
       "      <th>Date</th>\n",
       "      <th>Open</th>\n",
       "      <th>Close</th>\n",
       "      <th>Daily Log Return</th>\n",
       "    </tr>\n",
       "  </thead>\n",
       "  <tbody>\n",
       "    <tr>\n",
       "      <th>0</th>\n",
       "      <td>2017-01-03 00:00:00-05:00</td>\n",
       "      <td>59.160000</td>\n",
       "      <td>58.939999</td>\n",
       "      <td>0.003726</td>\n",
       "    </tr>\n",
       "    <tr>\n",
       "      <th>1</th>\n",
       "      <td>2017-01-04 00:00:00-05:00</td>\n",
       "      <td>58.840000</td>\n",
       "      <td>59.410000</td>\n",
       "      <td>-0.009641</td>\n",
       "    </tr>\n",
       "    <tr>\n",
       "      <th>2</th>\n",
       "      <td>2017-01-05 00:00:00-05:00</td>\n",
       "      <td>59.439999</td>\n",
       "      <td>59.360001</td>\n",
       "      <td>0.001347</td>\n",
       "    </tr>\n",
       "    <tr>\n",
       "      <th>3</th>\n",
       "      <td>2017-01-06 00:00:00-05:00</td>\n",
       "      <td>58.970001</td>\n",
       "      <td>58.939999</td>\n",
       "      <td>0.000509</td>\n",
       "    </tr>\n",
       "    <tr>\n",
       "      <th>4</th>\n",
       "      <td>2017-01-09 00:00:00-05:00</td>\n",
       "      <td>57.770000</td>\n",
       "      <td>58.279999</td>\n",
       "      <td>-0.008789</td>\n",
       "    </tr>\n",
       "    <tr>\n",
       "      <th>...</th>\n",
       "      <td>...</td>\n",
       "      <td>...</td>\n",
       "      <td>...</td>\n",
       "      <td>...</td>\n",
       "    </tr>\n",
       "    <tr>\n",
       "      <th>1442</th>\n",
       "      <td>2022-09-26 00:00:00-04:00</td>\n",
       "      <td>187.279999</td>\n",
       "      <td>186.429993</td>\n",
       "      <td>0.004549</td>\n",
       "    </tr>\n",
       "    <tr>\n",
       "      <th>1443</th>\n",
       "      <td>2022-09-27 00:00:00-04:00</td>\n",
       "      <td>190.199997</td>\n",
       "      <td>189.190002</td>\n",
       "      <td>0.005324</td>\n",
       "    </tr>\n",
       "    <tr>\n",
       "      <th>1444</th>\n",
       "      <td>2022-09-28 00:00:00-04:00</td>\n",
       "      <td>187.179993</td>\n",
       "      <td>191.229996</td>\n",
       "      <td>-0.021406</td>\n",
       "    </tr>\n",
       "    <tr>\n",
       "      <th>1445</th>\n",
       "      <td>2022-09-29 00:00:00-04:00</td>\n",
       "      <td>185.639999</td>\n",
       "      <td>186.419998</td>\n",
       "      <td>-0.004193</td>\n",
       "    </tr>\n",
       "    <tr>\n",
       "      <th>1446</th>\n",
       "      <td>2022-09-30 00:00:00-04:00</td>\n",
       "      <td>184.850006</td>\n",
       "      <td>185.000000</td>\n",
       "      <td>-0.000811</td>\n",
       "    </tr>\n",
       "  </tbody>\n",
       "</table>\n",
       "<p>1447 rows × 4 columns</p>\n",
       "</div>"
      ],
      "text/plain": [
       "                          Date        Open       Close  Daily Log Return\n",
       "0    2017-01-03 00:00:00-05:00   59.160000   58.939999          0.003726\n",
       "1    2017-01-04 00:00:00-05:00   58.840000   59.410000         -0.009641\n",
       "2    2017-01-05 00:00:00-05:00   59.439999   59.360001          0.001347\n",
       "3    2017-01-06 00:00:00-05:00   58.970001   58.939999          0.000509\n",
       "4    2017-01-09 00:00:00-05:00   57.770000   58.279999         -0.008789\n",
       "...                        ...         ...         ...               ...\n",
       "1442 2022-09-26 00:00:00-04:00  187.279999  186.429993          0.004549\n",
       "1443 2022-09-27 00:00:00-04:00  190.199997  189.190002          0.005324\n",
       "1444 2022-09-28 00:00:00-04:00  187.179993  191.229996         -0.021406\n",
       "1445 2022-09-29 00:00:00-04:00  185.639999  186.419998         -0.004193\n",
       "1446 2022-09-30 00:00:00-04:00  184.850006  185.000000         -0.000811\n",
       "\n",
       "[1447 rows x 4 columns]"
      ]
     },
     "execution_count": 84,
     "metadata": {},
     "output_type": "execute_result"
    }
   ],
   "source": [
    "lgret_R = pd.DataFrame({\n",
    "    'Open': RACE['Open'],\n",
    "    'Close': RACE['Close'],\n",
    "    'Daily Log Return': np.log(RACE['Open']/RACE['Close'])\n",
    "})\n",
    "lgret_R\n",
    "lgret_R.reset_index(inplace = True)\n",
    "lgret_R"
   ]
  },
  {
   "cell_type": "code",
   "execution_count": 85,
   "id": "8ebd092c",
   "metadata": {},
   "outputs": [
    {
     "name": "stderr",
     "output_type": "stream",
     "text": [
      "/Users/shrutiagarwal/opt/anaconda3/lib/python3.9/site-packages/seaborn/distributions.py:2619: FutureWarning: `distplot` is a deprecated function and will be removed in a future version. Please adapt your code to use either `displot` (a figure-level function with similar flexibility) or `histplot` (an axes-level function for histograms).\n",
      "  warnings.warn(msg, FutureWarning)\n"
     ]
    },
    {
     "data": {
      "text/plain": [
       "<AxesSubplot:xlabel='Daily Log Return', ylabel='Density'>"
      ]
     },
     "execution_count": 85,
     "metadata": {},
     "output_type": "execute_result"
    },
    {
     "data": {
      "image/png": "[encoded data removed]",
      "text/plain": [
       "<Figure size 432x288 with 1 Axes>"
      ]
     },
     "metadata": {
      "needs_background": "light"
     },
     "output_type": "display_data"
    }
   ],
   "source": [
    "sns.distplot(lgret_R['Daily Log Return'], bins = 52, kde = True)"
   ]
  },
  {
   "cell_type": "code",
   "execution_count": 86,
   "id": "30147d3f",
   "metadata": {
    "scrolled": true
   },
   "outputs": [
    {
     "name": "stdout",
     "output_type": "stream",
     "text": [
      "[*********************100%***********************]  1 of 1 completed\n"
     ]
    },
    {
     "data": {
      "text/html": [
       "<div>\n",
       "<style scoped>\n",
       "    .dataframe tbody tr th:only-of-type {\n",
       "        vertical-align: middle;\n",
       "    }\n",
       "\n",
       "    .dataframe tbody tr th {\n",
       "        vertical-align: top;\n",
       "    }\n",
       "\n",
       "    .dataframe thead th {\n",
       "        text-align: right;\n",
       "    }\n",
       "</style>\n",
       "<table border=\"1\" class=\"dataframe\">\n",
       "  <thead>\n",
       "    <tr style=\"text-align: right;\">\n",
       "      <th></th>\n",
       "      <th>Open</th>\n",
       "      <th>High</th>\n",
       "      <th>Low</th>\n",
       "      <th>Close</th>\n",
       "      <th>Adj Close</th>\n",
       "      <th>Volume</th>\n",
       "    </tr>\n",
       "    <tr>\n",
       "      <th>Date</th>\n",
       "      <th></th>\n",
       "      <th></th>\n",
       "      <th></th>\n",
       "      <th></th>\n",
       "      <th></th>\n",
       "      <th></th>\n",
       "    </tr>\n",
       "  </thead>\n",
       "  <tbody>\n",
       "    <tr>\n",
       "      <th>2017-01-03 00:00:00-05:00</th>\n",
       "      <td>34.980000</td>\n",
       "      <td>35.570000</td>\n",
       "      <td>34.840000</td>\n",
       "      <td>35.150002</td>\n",
       "      <td>30.675360</td>\n",
       "      <td>10904900</td>\n",
       "    </tr>\n",
       "    <tr>\n",
       "      <th>2017-01-04 00:00:00-05:00</th>\n",
       "      <td>35.599998</td>\n",
       "      <td>37.240002</td>\n",
       "      <td>35.470001</td>\n",
       "      <td>37.090000</td>\n",
       "      <td>32.368385</td>\n",
       "      <td>23388500</td>\n",
       "    </tr>\n",
       "    <tr>\n",
       "      <th>2017-01-05 00:00:00-05:00</th>\n",
       "      <td>37.009998</td>\n",
       "      <td>37.049999</td>\n",
       "      <td>36.070000</td>\n",
       "      <td>36.389999</td>\n",
       "      <td>31.757490</td>\n",
       "      <td>15636700</td>\n",
       "    </tr>\n",
       "    <tr>\n",
       "      <th>2017-01-06 00:00:00-05:00</th>\n",
       "      <td>36.410000</td>\n",
       "      <td>36.549999</td>\n",
       "      <td>35.930000</td>\n",
       "      <td>35.990002</td>\n",
       "      <td>31.408417</td>\n",
       "      <td>13240100</td>\n",
       "    </tr>\n",
       "    <tr>\n",
       "      <th>2017-01-09 00:00:00-05:00</th>\n",
       "      <td>36.119999</td>\n",
       "      <td>36.529999</td>\n",
       "      <td>35.860001</td>\n",
       "      <td>36.009998</td>\n",
       "      <td>31.425867</td>\n",
       "      <td>15204500</td>\n",
       "    </tr>\n",
       "  </tbody>\n",
       "</table>\n",
       "</div>"
      ],
      "text/plain": [
       "                                Open       High        Low      Close  \\\n",
       "Date                                                                    \n",
       "2017-01-03 00:00:00-05:00  34.980000  35.570000  34.840000  35.150002   \n",
       "2017-01-04 00:00:00-05:00  35.599998  37.240002  35.470001  37.090000   \n",
       "2017-01-05 00:00:00-05:00  37.009998  37.049999  36.070000  36.389999   \n",
       "2017-01-06 00:00:00-05:00  36.410000  36.549999  35.930000  35.990002   \n",
       "2017-01-09 00:00:00-05:00  36.119999  36.529999  35.860001  36.009998   \n",
       "\n",
       "                           Adj Close    Volume  \n",
       "Date                                            \n",
       "2017-01-03 00:00:00-05:00  30.675360  10904900  \n",
       "2017-01-04 00:00:00-05:00  32.368385  23388500  \n",
       "2017-01-05 00:00:00-05:00  31.757490  15636700  \n",
       "2017-01-06 00:00:00-05:00  31.408417  13240100  \n",
       "2017-01-09 00:00:00-05:00  31.425867  15204500  "
      ]
     },
     "execution_count": 86,
     "metadata": {},
     "output_type": "execute_result"
    }
   ],
   "source": [
    "GM = yf.download('GM', start_date, end_date)\n",
    "GM.head()"
   ]
  },
  {
   "cell_type": "code",
   "execution_count": 87,
   "id": "bdceec73",
   "metadata": {
    "scrolled": true
   },
   "outputs": [
    {
     "data": {
      "text/html": [
       "<div>\n",
       "<style scoped>\n",
       "    .dataframe tbody tr th:only-of-type {\n",
       "        vertical-align: middle;\n",
       "    }\n",
       "\n",
       "    .dataframe tbody tr th {\n",
       "        vertical-align: top;\n",
       "    }\n",
       "\n",
       "    .dataframe thead th {\n",
       "        text-align: right;\n",
       "    }\n",
       "</style>\n",
       "<table border=\"1\" class=\"dataframe\">\n",
       "  <thead>\n",
       "    <tr style=\"text-align: right;\">\n",
       "      <th></th>\n",
       "      <th>Date</th>\n",
       "      <th>Open</th>\n",
       "      <th>Close</th>\n",
       "      <th>Daily Log Return</th>\n",
       "    </tr>\n",
       "  </thead>\n",
       "  <tbody>\n",
       "    <tr>\n",
       "      <th>0</th>\n",
       "      <td>2017-01-03 00:00:00-05:00</td>\n",
       "      <td>34.980000</td>\n",
       "      <td>35.150002</td>\n",
       "      <td>-0.004848</td>\n",
       "    </tr>\n",
       "    <tr>\n",
       "      <th>1</th>\n",
       "      <td>2017-01-04 00:00:00-05:00</td>\n",
       "      <td>35.599998</td>\n",
       "      <td>37.090000</td>\n",
       "      <td>-0.041002</td>\n",
       "    </tr>\n",
       "    <tr>\n",
       "      <th>2</th>\n",
       "      <td>2017-01-05 00:00:00-05:00</td>\n",
       "      <td>37.009998</td>\n",
       "      <td>36.389999</td>\n",
       "      <td>0.016894</td>\n",
       "    </tr>\n",
       "    <tr>\n",
       "      <th>3</th>\n",
       "      <td>2017-01-06 00:00:00-05:00</td>\n",
       "      <td>36.410000</td>\n",
       "      <td>35.990002</td>\n",
       "      <td>0.011602</td>\n",
       "    </tr>\n",
       "    <tr>\n",
       "      <th>4</th>\n",
       "      <td>2017-01-09 00:00:00-05:00</td>\n",
       "      <td>36.119999</td>\n",
       "      <td>36.009998</td>\n",
       "      <td>0.003050</td>\n",
       "    </tr>\n",
       "    <tr>\n",
       "      <th>...</th>\n",
       "      <td>...</td>\n",
       "      <td>...</td>\n",
       "      <td>...</td>\n",
       "      <td>...</td>\n",
       "    </tr>\n",
       "    <tr>\n",
       "      <th>1442</th>\n",
       "      <td>2022-09-26 00:00:00-04:00</td>\n",
       "      <td>35.099998</td>\n",
       "      <td>35.040001</td>\n",
       "      <td>0.001711</td>\n",
       "    </tr>\n",
       "    <tr>\n",
       "      <th>1443</th>\n",
       "      <td>2022-09-27 00:00:00-04:00</td>\n",
       "      <td>35.549999</td>\n",
       "      <td>34.709999</td>\n",
       "      <td>0.023912</td>\n",
       "    </tr>\n",
       "    <tr>\n",
       "      <th>1444</th>\n",
       "      <td>2022-09-28 00:00:00-04:00</td>\n",
       "      <td>34.750000</td>\n",
       "      <td>35.250000</td>\n",
       "      <td>-0.014286</td>\n",
       "    </tr>\n",
       "    <tr>\n",
       "      <th>1445</th>\n",
       "      <td>2022-09-29 00:00:00-04:00</td>\n",
       "      <td>34.009998</td>\n",
       "      <td>33.259998</td>\n",
       "      <td>0.022299</td>\n",
       "    </tr>\n",
       "    <tr>\n",
       "      <th>1446</th>\n",
       "      <td>2022-09-30 00:00:00-04:00</td>\n",
       "      <td>32.930000</td>\n",
       "      <td>32.090000</td>\n",
       "      <td>0.025840</td>\n",
       "    </tr>\n",
       "  </tbody>\n",
       "</table>\n",
       "<p>1447 rows × 4 columns</p>\n",
       "</div>"
      ],
      "text/plain": [
       "                          Date       Open      Close  Daily Log Return\n",
       "0    2017-01-03 00:00:00-05:00  34.980000  35.150002         -0.004848\n",
       "1    2017-01-04 00:00:00-05:00  35.599998  37.090000         -0.041002\n",
       "2    2017-01-05 00:00:00-05:00  37.009998  36.389999          0.016894\n",
       "3    2017-01-06 00:00:00-05:00  36.410000  35.990002          0.011602\n",
       "4    2017-01-09 00:00:00-05:00  36.119999  36.009998          0.003050\n",
       "...                        ...        ...        ...               ...\n",
       "1442 2022-09-26 00:00:00-04:00  35.099998  35.040001          0.001711\n",
       "1443 2022-09-27 00:00:00-04:00  35.549999  34.709999          0.023912\n",
       "1444 2022-09-28 00:00:00-04:00  34.750000  35.250000         -0.014286\n",
       "1445 2022-09-29 00:00:00-04:00  34.009998  33.259998          0.022299\n",
       "1446 2022-09-30 00:00:00-04:00  32.930000  32.090000          0.025840\n",
       "\n",
       "[1447 rows x 4 columns]"
      ]
     },
     "execution_count": 87,
     "metadata": {},
     "output_type": "execute_result"
    }
   ],
   "source": [
    "lgret_GM = pd.DataFrame({\n",
    "    'Open': GM['Open'],\n",
    "    'Close': GM['Close'],\n",
    "    'Daily Log Return': np.log(GM['Open']/GM['Close'])\n",
    "})\n",
    "lgret_GM\n",
    "lgret_GM.reset_index(inplace = True)\n",
    "lgret_GM"
   ]
  },
  {
   "cell_type": "code",
   "execution_count": 88,
   "id": "142e4ffe",
   "metadata": {},
   "outputs": [
    {
     "name": "stderr",
     "output_type": "stream",
     "text": [
      "/Users/shrutiagarwal/opt/anaconda3/lib/python3.9/site-packages/seaborn/distributions.py:2619: FutureWarning: `distplot` is a deprecated function and will be removed in a future version. Please adapt your code to use either `displot` (a figure-level function with similar flexibility) or `histplot` (an axes-level function for histograms).\n",
      "  warnings.warn(msg, FutureWarning)\n"
     ]
    },
    {
     "data": {
      "text/plain": [
       "<AxesSubplot:xlabel='Daily Log Return', ylabel='Density'>"
      ]
     },
     "execution_count": 88,
     "metadata": {},
     "output_type": "execute_result"
    },
    {
     "data": {
      "image/png": "[encoded data removed]",
      "text/plain": [
       "<Figure size 432x288 with 1 Axes>"
      ]
     },
     "metadata": {
      "needs_background": "light"
     },
     "output_type": "display_data"
    }
   ],
   "source": [
    "sns.distplot(lgret_GM['Daily Log Return'], bins = 52, kde = True)"
   ]
  },
  {
   "cell_type": "code",
   "execution_count": 89,
   "id": "6ebc7754",
   "metadata": {},
   "outputs": [
    {
     "name": "stdout",
     "output_type": "stream",
     "text": [
      "[*********************100%***********************]  1 of 1 completed\n"
     ]
    },
    {
     "data": {
      "text/html": [
       "<div>\n",
       "<style scoped>\n",
       "    .dataframe tbody tr th:only-of-type {\n",
       "        vertical-align: middle;\n",
       "    }\n",
       "\n",
       "    .dataframe tbody tr th {\n",
       "        vertical-align: top;\n",
       "    }\n",
       "\n",
       "    .dataframe thead th {\n",
       "        text-align: right;\n",
       "    }\n",
       "</style>\n",
       "<table border=\"1\" class=\"dataframe\">\n",
       "  <thead>\n",
       "    <tr style=\"text-align: right;\">\n",
       "      <th></th>\n",
       "      <th>Open</th>\n",
       "      <th>High</th>\n",
       "      <th>Low</th>\n",
       "      <th>Close</th>\n",
       "      <th>Adj Close</th>\n",
       "      <th>Volume</th>\n",
       "    </tr>\n",
       "    <tr>\n",
       "      <th>Date</th>\n",
       "      <th></th>\n",
       "      <th></th>\n",
       "      <th></th>\n",
       "      <th></th>\n",
       "      <th></th>\n",
       "      <th></th>\n",
       "    </tr>\n",
       "  </thead>\n",
       "  <tbody>\n",
       "    <tr>\n",
       "      <th>2017-01-03 00:00:00-05:00</th>\n",
       "      <td>12.20</td>\n",
       "      <td>12.60</td>\n",
       "      <td>12.13</td>\n",
       "      <td>12.59</td>\n",
       "      <td>9.882421</td>\n",
       "      <td>40510800</td>\n",
       "    </tr>\n",
       "    <tr>\n",
       "      <th>2017-01-04 00:00:00-05:00</th>\n",
       "      <td>12.77</td>\n",
       "      <td>13.27</td>\n",
       "      <td>12.74</td>\n",
       "      <td>13.17</td>\n",
       "      <td>10.337687</td>\n",
       "      <td>77638100</td>\n",
       "    </tr>\n",
       "    <tr>\n",
       "      <th>2017-01-05 00:00:00-05:00</th>\n",
       "      <td>13.21</td>\n",
       "      <td>13.22</td>\n",
       "      <td>12.63</td>\n",
       "      <td>12.77</td>\n",
       "      <td>10.023710</td>\n",
       "      <td>75628400</td>\n",
       "    </tr>\n",
       "    <tr>\n",
       "      <th>2017-01-06 00:00:00-05:00</th>\n",
       "      <td>12.80</td>\n",
       "      <td>12.84</td>\n",
       "      <td>12.64</td>\n",
       "      <td>12.76</td>\n",
       "      <td>10.015862</td>\n",
       "      <td>40315900</td>\n",
       "    </tr>\n",
       "    <tr>\n",
       "      <th>2017-01-09 00:00:00-05:00</th>\n",
       "      <td>12.79</td>\n",
       "      <td>12.86</td>\n",
       "      <td>12.63</td>\n",
       "      <td>12.63</td>\n",
       "      <td>9.913818</td>\n",
       "      <td>39438400</td>\n",
       "    </tr>\n",
       "  </tbody>\n",
       "</table>\n",
       "</div>"
      ],
      "text/plain": [
       "                            Open   High    Low  Close  Adj Close    Volume\n",
       "Date                                                                      \n",
       "2017-01-03 00:00:00-05:00  12.20  12.60  12.13  12.59   9.882421  40510800\n",
       "2017-01-04 00:00:00-05:00  12.77  13.27  12.74  13.17  10.337687  77638100\n",
       "2017-01-05 00:00:00-05:00  13.21  13.22  12.63  12.77  10.023710  75628400\n",
       "2017-01-06 00:00:00-05:00  12.80  12.84  12.64  12.76  10.015862  40315900\n",
       "2017-01-09 00:00:00-05:00  12.79  12.86  12.63  12.63   9.913818  39438400"
      ]
     },
     "execution_count": 89,
     "metadata": {},
     "output_type": "execute_result"
    }
   ],
   "source": [
    "F = yf.download('F', start_date, end_date)\n",
    "F.head()"
   ]
  },
  {
   "cell_type": "code",
   "execution_count": 90,
   "id": "7e5447d8",
   "metadata": {},
   "outputs": [
    {
     "data": {
      "text/html": [
       "<div>\n",
       "<style scoped>\n",
       "    .dataframe tbody tr th:only-of-type {\n",
       "        vertical-align: middle;\n",
       "    }\n",
       "\n",
       "    .dataframe tbody tr th {\n",
       "        vertical-align: top;\n",
       "    }\n",
       "\n",
       "    .dataframe thead th {\n",
       "        text-align: right;\n",
       "    }\n",
       "</style>\n",
       "<table border=\"1\" class=\"dataframe\">\n",
       "  <thead>\n",
       "    <tr style=\"text-align: right;\">\n",
       "      <th></th>\n",
       "      <th>Date</th>\n",
       "      <th>Open</th>\n",
       "      <th>Close</th>\n",
       "      <th>Daily Log Return</th>\n",
       "    </tr>\n",
       "  </thead>\n",
       "  <tbody>\n",
       "    <tr>\n",
       "      <th>0</th>\n",
       "      <td>2017-01-03 00:00:00-05:00</td>\n",
       "      <td>12.20</td>\n",
       "      <td>12.59</td>\n",
       "      <td>-0.031467</td>\n",
       "    </tr>\n",
       "    <tr>\n",
       "      <th>1</th>\n",
       "      <td>2017-01-04 00:00:00-05:00</td>\n",
       "      <td>12.77</td>\n",
       "      <td>13.17</td>\n",
       "      <td>-0.030843</td>\n",
       "    </tr>\n",
       "    <tr>\n",
       "      <th>2</th>\n",
       "      <td>2017-01-05 00:00:00-05:00</td>\n",
       "      <td>13.21</td>\n",
       "      <td>12.77</td>\n",
       "      <td>0.033875</td>\n",
       "    </tr>\n",
       "    <tr>\n",
       "      <th>3</th>\n",
       "      <td>2017-01-06 00:00:00-05:00</td>\n",
       "      <td>12.80</td>\n",
       "      <td>12.76</td>\n",
       "      <td>0.003130</td>\n",
       "    </tr>\n",
       "    <tr>\n",
       "      <th>4</th>\n",
       "      <td>2017-01-09 00:00:00-05:00</td>\n",
       "      <td>12.79</td>\n",
       "      <td>12.63</td>\n",
       "      <td>0.012589</td>\n",
       "    </tr>\n",
       "    <tr>\n",
       "      <th>...</th>\n",
       "      <td>...</td>\n",
       "      <td>...</td>\n",
       "      <td>...</td>\n",
       "      <td>...</td>\n",
       "    </tr>\n",
       "    <tr>\n",
       "      <th>1442</th>\n",
       "      <td>2022-09-26 00:00:00-04:00</td>\n",
       "      <td>12.21</td>\n",
       "      <td>11.99</td>\n",
       "      <td>0.018182</td>\n",
       "    </tr>\n",
       "    <tr>\n",
       "      <th>1443</th>\n",
       "      <td>2022-09-27 00:00:00-04:00</td>\n",
       "      <td>12.21</td>\n",
       "      <td>11.91</td>\n",
       "      <td>0.024877</td>\n",
       "    </tr>\n",
       "    <tr>\n",
       "      <th>1444</th>\n",
       "      <td>2022-09-28 00:00:00-04:00</td>\n",
       "      <td>11.91</td>\n",
       "      <td>12.18</td>\n",
       "      <td>-0.022417</td>\n",
       "    </tr>\n",
       "    <tr>\n",
       "      <th>1445</th>\n",
       "      <td>2022-09-29 00:00:00-04:00</td>\n",
       "      <td>11.85</td>\n",
       "      <td>11.47</td>\n",
       "      <td>0.032593</td>\n",
       "    </tr>\n",
       "    <tr>\n",
       "      <th>1446</th>\n",
       "      <td>2022-09-30 00:00:00-04:00</td>\n",
       "      <td>11.39</td>\n",
       "      <td>11.20</td>\n",
       "      <td>0.016822</td>\n",
       "    </tr>\n",
       "  </tbody>\n",
       "</table>\n",
       "<p>1447 rows × 4 columns</p>\n",
       "</div>"
      ],
      "text/plain": [
       "                          Date   Open  Close  Daily Log Return\n",
       "0    2017-01-03 00:00:00-05:00  12.20  12.59         -0.031467\n",
       "1    2017-01-04 00:00:00-05:00  12.77  13.17         -0.030843\n",
       "2    2017-01-05 00:00:00-05:00  13.21  12.77          0.033875\n",
       "3    2017-01-06 00:00:00-05:00  12.80  12.76          0.003130\n",
       "4    2017-01-09 00:00:00-05:00  12.79  12.63          0.012589\n",
       "...                        ...    ...    ...               ...\n",
       "1442 2022-09-26 00:00:00-04:00  12.21  11.99          0.018182\n",
       "1443 2022-09-27 00:00:00-04:00  12.21  11.91          0.024877\n",
       "1444 2022-09-28 00:00:00-04:00  11.91  12.18         -0.022417\n",
       "1445 2022-09-29 00:00:00-04:00  11.85  11.47          0.032593\n",
       "1446 2022-09-30 00:00:00-04:00  11.39  11.20          0.016822\n",
       "\n",
       "[1447 rows x 4 columns]"
      ]
     },
     "execution_count": 90,
     "metadata": {},
     "output_type": "execute_result"
    }
   ],
   "source": [
    "lgret_F = pd.DataFrame({\n",
    "    'Open': F['Open'],\n",
    "    'Close': F['Close'],\n",
    "    'Daily Log Return': np.log(F['Open']/F['Close'])\n",
    "})\n",
    "lgret_F\n",
    "lgret_F.reset_index(inplace = True)\n",
    "lgret_F"
   ]
  },
  {
   "cell_type": "code",
   "execution_count": 91,
   "id": "0761b070",
   "metadata": {
    "scrolled": true
   },
   "outputs": [
    {
     "name": "stderr",
     "output_type": "stream",
     "text": [
      "/Users/shrutiagarwal/opt/anaconda3/lib/python3.9/site-packages/seaborn/distributions.py:2619: FutureWarning: `distplot` is a deprecated function and will be removed in a future version. Please adapt your code to use either `displot` (a figure-level function with similar flexibility) or `histplot` (an axes-level function for histograms).\n",
      "  warnings.warn(msg, FutureWarning)\n"
     ]
    },
    {
     "data": {
      "text/plain": [
       "<AxesSubplot:xlabel='Daily Log Return', ylabel='Density'>"
      ]
     },
     "execution_count": 91,
     "metadata": {},
     "output_type": "execute_result"
    },
    {
     "data": {
      "image/png": "[encoded data removed]",
      "text/plain": [
       "<Figure size 432x288 with 1 Axes>"
      ]
     },
     "metadata": {
      "needs_background": "light"
     },
     "output_type": "display_data"
    }
   ],
   "source": [
    "sns.distplot(lgret_F['Daily Log Return'], bins = 52, kde = True)"
   ]
  },
  {
   "cell_type": "code",
   "execution_count": 92,
   "id": "118f873a",
   "metadata": {},
   "outputs": [
    {
     "name": "stdout",
     "output_type": "stream",
     "text": [
      "[*********************100%***********************]  1 of 1 completed\n"
     ]
    },
    {
     "data": {
      "text/html": [
       "<div>\n",
       "<style scoped>\n",
       "    .dataframe tbody tr th:only-of-type {\n",
       "        vertical-align: middle;\n",
       "    }\n",
       "\n",
       "    .dataframe tbody tr th {\n",
       "        vertical-align: top;\n",
       "    }\n",
       "\n",
       "    .dataframe thead th {\n",
       "        text-align: right;\n",
       "    }\n",
       "</style>\n",
       "<table border=\"1\" class=\"dataframe\">\n",
       "  <thead>\n",
       "    <tr style=\"text-align: right;\">\n",
       "      <th></th>\n",
       "      <th>Open</th>\n",
       "      <th>High</th>\n",
       "      <th>Low</th>\n",
       "      <th>Close</th>\n",
       "      <th>Adj Close</th>\n",
       "      <th>Volume</th>\n",
       "    </tr>\n",
       "    <tr>\n",
       "      <th>Date</th>\n",
       "      <th></th>\n",
       "      <th></th>\n",
       "      <th></th>\n",
       "      <th></th>\n",
       "      <th></th>\n",
       "      <th></th>\n",
       "    </tr>\n",
       "  </thead>\n",
       "  <tbody>\n",
       "    <tr>\n",
       "      <th>2017-01-03 00:00:00-05:00</th>\n",
       "      <td>29.480000</td>\n",
       "      <td>29.610001</td>\n",
       "      <td>29.420000</td>\n",
       "      <td>29.610001</td>\n",
       "      <td>29.610001</td>\n",
       "      <td>864500</td>\n",
       "    </tr>\n",
       "    <tr>\n",
       "      <th>2017-01-04 00:00:00-05:00</th>\n",
       "      <td>30.209999</td>\n",
       "      <td>30.670000</td>\n",
       "      <td>30.209999</td>\n",
       "      <td>30.660000</td>\n",
       "      <td>30.660000</td>\n",
       "      <td>705500</td>\n",
       "    </tr>\n",
       "    <tr>\n",
       "      <th>2017-01-05 00:00:00-05:00</th>\n",
       "      <td>30.620001</td>\n",
       "      <td>30.780001</td>\n",
       "      <td>30.580000</td>\n",
       "      <td>30.660000</td>\n",
       "      <td>30.660000</td>\n",
       "      <td>482600</td>\n",
       "    </tr>\n",
       "    <tr>\n",
       "      <th>2017-01-06 00:00:00-05:00</th>\n",
       "      <td>30.350000</td>\n",
       "      <td>30.580000</td>\n",
       "      <td>30.240000</td>\n",
       "      <td>30.469999</td>\n",
       "      <td>30.469999</td>\n",
       "      <td>493600</td>\n",
       "    </tr>\n",
       "    <tr>\n",
       "      <th>2017-01-09 00:00:00-05:00</th>\n",
       "      <td>30.370001</td>\n",
       "      <td>30.500000</td>\n",
       "      <td>30.299999</td>\n",
       "      <td>30.430000</td>\n",
       "      <td>30.430000</td>\n",
       "      <td>585200</td>\n",
       "    </tr>\n",
       "  </tbody>\n",
       "</table>\n",
       "</div>"
      ],
      "text/plain": [
       "                                Open       High        Low      Close  \\\n",
       "Date                                                                    \n",
       "2017-01-03 00:00:00-05:00  29.480000  29.610001  29.420000  29.610001   \n",
       "2017-01-04 00:00:00-05:00  30.209999  30.670000  30.209999  30.660000   \n",
       "2017-01-05 00:00:00-05:00  30.620001  30.780001  30.580000  30.660000   \n",
       "2017-01-06 00:00:00-05:00  30.350000  30.580000  30.240000  30.469999   \n",
       "2017-01-09 00:00:00-05:00  30.370001  30.500000  30.299999  30.430000   \n",
       "\n",
       "                           Adj Close  Volume  \n",
       "Date                                          \n",
       "2017-01-03 00:00:00-05:00  29.610001  864500  \n",
       "2017-01-04 00:00:00-05:00  30.660000  705500  \n",
       "2017-01-05 00:00:00-05:00  30.660000  482600  \n",
       "2017-01-06 00:00:00-05:00  30.469999  493600  \n",
       "2017-01-09 00:00:00-05:00  30.430000  585200  "
      ]
     },
     "execution_count": 92,
     "metadata": {},
     "output_type": "execute_result"
    }
   ],
   "source": [
    "HMC = yf.download('HMC', start_date, end_date)\n",
    "HMC.head()"
   ]
  },
  {
   "cell_type": "code",
   "execution_count": 93,
   "id": "e07205d1",
   "metadata": {},
   "outputs": [
    {
     "data": {
      "text/html": [
       "<div>\n",
       "<style scoped>\n",
       "    .dataframe tbody tr th:only-of-type {\n",
       "        vertical-align: middle;\n",
       "    }\n",
       "\n",
       "    .dataframe tbody tr th {\n",
       "        vertical-align: top;\n",
       "    }\n",
       "\n",
       "    .dataframe thead th {\n",
       "        text-align: right;\n",
       "    }\n",
       "</style>\n",
       "<table border=\"1\" class=\"dataframe\">\n",
       "  <thead>\n",
       "    <tr style=\"text-align: right;\">\n",
       "      <th></th>\n",
       "      <th>Date</th>\n",
       "      <th>Open</th>\n",
       "      <th>Close</th>\n",
       "      <th>Daily Log Return</th>\n",
       "    </tr>\n",
       "  </thead>\n",
       "  <tbody>\n",
       "    <tr>\n",
       "      <th>0</th>\n",
       "      <td>2017-01-03 00:00:00-05:00</td>\n",
       "      <td>29.480000</td>\n",
       "      <td>29.610001</td>\n",
       "      <td>-0.004400</td>\n",
       "    </tr>\n",
       "    <tr>\n",
       "      <th>1</th>\n",
       "      <td>2017-01-04 00:00:00-05:00</td>\n",
       "      <td>30.209999</td>\n",
       "      <td>30.660000</td>\n",
       "      <td>-0.014786</td>\n",
       "    </tr>\n",
       "    <tr>\n",
       "      <th>2</th>\n",
       "      <td>2017-01-05 00:00:00-05:00</td>\n",
       "      <td>30.620001</td>\n",
       "      <td>30.660000</td>\n",
       "      <td>-0.001305</td>\n",
       "    </tr>\n",
       "    <tr>\n",
       "      <th>3</th>\n",
       "      <td>2017-01-06 00:00:00-05:00</td>\n",
       "      <td>30.350000</td>\n",
       "      <td>30.469999</td>\n",
       "      <td>-0.003946</td>\n",
       "    </tr>\n",
       "    <tr>\n",
       "      <th>4</th>\n",
       "      <td>2017-01-09 00:00:00-05:00</td>\n",
       "      <td>30.370001</td>\n",
       "      <td>30.430000</td>\n",
       "      <td>-0.001974</td>\n",
       "    </tr>\n",
       "    <tr>\n",
       "      <th>...</th>\n",
       "      <td>...</td>\n",
       "      <td>...</td>\n",
       "      <td>...</td>\n",
       "      <td>...</td>\n",
       "    </tr>\n",
       "    <tr>\n",
       "      <th>1442</th>\n",
       "      <td>2022-09-26 00:00:00-04:00</td>\n",
       "      <td>23.059999</td>\n",
       "      <td>22.809999</td>\n",
       "      <td>0.010900</td>\n",
       "    </tr>\n",
       "    <tr>\n",
       "      <th>1443</th>\n",
       "      <td>2022-09-27 00:00:00-04:00</td>\n",
       "      <td>23.219999</td>\n",
       "      <td>22.840000</td>\n",
       "      <td>0.016501</td>\n",
       "    </tr>\n",
       "    <tr>\n",
       "      <th>1444</th>\n",
       "      <td>2022-09-28 00:00:00-04:00</td>\n",
       "      <td>22.660000</td>\n",
       "      <td>22.930000</td>\n",
       "      <td>-0.011845</td>\n",
       "    </tr>\n",
       "    <tr>\n",
       "      <th>1445</th>\n",
       "      <td>2022-09-29 00:00:00-04:00</td>\n",
       "      <td>22.580000</td>\n",
       "      <td>22.190001</td>\n",
       "      <td>0.017423</td>\n",
       "    </tr>\n",
       "    <tr>\n",
       "      <th>1446</th>\n",
       "      <td>2022-09-30 00:00:00-04:00</td>\n",
       "      <td>21.879999</td>\n",
       "      <td>21.590000</td>\n",
       "      <td>0.013343</td>\n",
       "    </tr>\n",
       "  </tbody>\n",
       "</table>\n",
       "<p>1447 rows × 4 columns</p>\n",
       "</div>"
      ],
      "text/plain": [
       "                          Date       Open      Close  Daily Log Return\n",
       "0    2017-01-03 00:00:00-05:00  29.480000  29.610001         -0.004400\n",
       "1    2017-01-04 00:00:00-05:00  30.209999  30.660000         -0.014786\n",
       "2    2017-01-05 00:00:00-05:00  30.620001  30.660000         -0.001305\n",
       "3    2017-01-06 00:00:00-05:00  30.350000  30.469999         -0.003946\n",
       "4    2017-01-09 00:00:00-05:00  30.370001  30.430000         -0.001974\n",
       "...                        ...        ...        ...               ...\n",
       "1442 2022-09-26 00:00:00-04:00  23.059999  22.809999          0.010900\n",
       "1443 2022-09-27 00:00:00-04:00  23.219999  22.840000          0.016501\n",
       "1444 2022-09-28 00:00:00-04:00  22.660000  22.930000         -0.011845\n",
       "1445 2022-09-29 00:00:00-04:00  22.580000  22.190001          0.017423\n",
       "1446 2022-09-30 00:00:00-04:00  21.879999  21.590000          0.013343\n",
       "\n",
       "[1447 rows x 4 columns]"
      ]
     },
     "execution_count": 93,
     "metadata": {},
     "output_type": "execute_result"
    }
   ],
   "source": [
    "lgret_HMC = pd.DataFrame({\n",
    "    'Open': HMC['Open'],\n",
    "    'Close': HMC['Close'],\n",
    "    'Daily Log Return': np.log(HMC['Open']/HMC['Close'])\n",
    "})\n",
    "lgret_HMC\n",
    "lgret_HMC.reset_index(inplace = True)\n",
    "lgret_HMC"
   ]
  },
  {
   "cell_type": "code",
   "execution_count": 94,
   "id": "d8513027",
   "metadata": {},
   "outputs": [
    {
     "name": "stderr",
     "output_type": "stream",
     "text": [
      "/Users/shrutiagarwal/opt/anaconda3/lib/python3.9/site-packages/seaborn/distributions.py:2619: FutureWarning: `distplot` is a deprecated function and will be removed in a future version. Please adapt your code to use either `displot` (a figure-level function with similar flexibility) or `histplot` (an axes-level function for histograms).\n",
      "  warnings.warn(msg, FutureWarning)\n"
     ]
    },
    {
     "data": {
      "text/plain": [
       "<AxesSubplot:xlabel='Daily Log Return', ylabel='Density'>"
      ]
     },
     "execution_count": 94,
     "metadata": {},
     "output_type": "execute_result"
    },
    {
     "data": {
      "image/png": "[encoded data removed]",
      "text/plain": [
       "<Figure size 432x288 with 1 Axes>"
      ]
     },
     "metadata": {
      "needs_background": "light"
     },
     "output_type": "display_data"
    }
   ],
   "source": [
    "sns.distplot(lgret_HMC['Daily Log Return'], bins = 52, kde = True)"
   ]
  },
  {
   "cell_type": "code",
   "execution_count": 95,
   "id": "1b3bcf7c",
   "metadata": {},
   "outputs": [
    {
     "name": "stdout",
     "output_type": "stream",
     "text": [
      "[*********************100%***********************]  1 of 1 completed\n"
     ]
    },
    {
     "data": {
      "text/html": [
       "<div>\n",
       "<style scoped>\n",
       "    .dataframe tbody tr th:only-of-type {\n",
       "        vertical-align: middle;\n",
       "    }\n",
       "\n",
       "    .dataframe tbody tr th {\n",
       "        vertical-align: top;\n",
       "    }\n",
       "\n",
       "    .dataframe thead th {\n",
       "        text-align: right;\n",
       "    }\n",
       "</style>\n",
       "<table border=\"1\" class=\"dataframe\">\n",
       "  <thead>\n",
       "    <tr style=\"text-align: right;\">\n",
       "      <th></th>\n",
       "      <th>Open</th>\n",
       "      <th>High</th>\n",
       "      <th>Low</th>\n",
       "      <th>Close</th>\n",
       "      <th>Adj Close</th>\n",
       "      <th>Volume</th>\n",
       "    </tr>\n",
       "    <tr>\n",
       "      <th>Date</th>\n",
       "      <th></th>\n",
       "      <th></th>\n",
       "      <th></th>\n",
       "      <th></th>\n",
       "      <th></th>\n",
       "      <th></th>\n",
       "    </tr>\n",
       "  </thead>\n",
       "  <tbody>\n",
       "    <tr>\n",
       "      <th>2017-01-03 00:00:00-05:00</th>\n",
       "      <td>118.169998</td>\n",
       "      <td>118.669998</td>\n",
       "      <td>117.830002</td>\n",
       "      <td>118.550003</td>\n",
       "      <td>118.550003</td>\n",
       "      <td>204000</td>\n",
       "    </tr>\n",
       "    <tr>\n",
       "      <th>2017-01-04 00:00:00-05:00</th>\n",
       "      <td>120.269997</td>\n",
       "      <td>121.290001</td>\n",
       "      <td>120.139999</td>\n",
       "      <td>121.190002</td>\n",
       "      <td>121.190002</td>\n",
       "      <td>250600</td>\n",
       "    </tr>\n",
       "    <tr>\n",
       "      <th>2017-01-05 00:00:00-05:00</th>\n",
       "      <td>121.190002</td>\n",
       "      <td>121.389999</td>\n",
       "      <td>120.320000</td>\n",
       "      <td>120.440002</td>\n",
       "      <td>120.440002</td>\n",
       "      <td>525900</td>\n",
       "    </tr>\n",
       "    <tr>\n",
       "      <th>2017-01-06 00:00:00-05:00</th>\n",
       "      <td>119.839996</td>\n",
       "      <td>120.230003</td>\n",
       "      <td>119.410004</td>\n",
       "      <td>120.129997</td>\n",
       "      <td>120.129997</td>\n",
       "      <td>171600</td>\n",
       "    </tr>\n",
       "    <tr>\n",
       "      <th>2017-01-09 00:00:00-05:00</th>\n",
       "      <td>119.480003</td>\n",
       "      <td>119.959999</td>\n",
       "      <td>119.470001</td>\n",
       "      <td>119.739998</td>\n",
       "      <td>119.739998</td>\n",
       "      <td>135800</td>\n",
       "    </tr>\n",
       "  </tbody>\n",
       "</table>\n",
       "</div>"
      ],
      "text/plain": [
       "                                 Open        High         Low       Close  \\\n",
       "Date                                                                        \n",
       "2017-01-03 00:00:00-05:00  118.169998  118.669998  117.830002  118.550003   \n",
       "2017-01-04 00:00:00-05:00  120.269997  121.290001  120.139999  121.190002   \n",
       "2017-01-05 00:00:00-05:00  121.190002  121.389999  120.320000  120.440002   \n",
       "2017-01-06 00:00:00-05:00  119.839996  120.230003  119.410004  120.129997   \n",
       "2017-01-09 00:00:00-05:00  119.480003  119.959999  119.470001  119.739998   \n",
       "\n",
       "                            Adj Close  Volume  \n",
       "Date                                           \n",
       "2017-01-03 00:00:00-05:00  118.550003  204000  \n",
       "2017-01-04 00:00:00-05:00  121.190002  250600  \n",
       "2017-01-05 00:00:00-05:00  120.440002  525900  \n",
       "2017-01-06 00:00:00-05:00  120.129997  171600  \n",
       "2017-01-09 00:00:00-05:00  119.739998  135800  "
      ]
     },
     "execution_count": 95,
     "metadata": {},
     "output_type": "execute_result"
    }
   ],
   "source": [
    "TM = yf.download('TM', start_date, end_date)\n",
    "TM.head()"
   ]
  },
  {
   "cell_type": "code",
   "execution_count": 96,
   "id": "a0c9012a",
   "metadata": {},
   "outputs": [
    {
     "data": {
      "text/html": [
       "<div>\n",
       "<style scoped>\n",
       "    .dataframe tbody tr th:only-of-type {\n",
       "        vertical-align: middle;\n",
       "    }\n",
       "\n",
       "    .dataframe tbody tr th {\n",
       "        vertical-align: top;\n",
       "    }\n",
       "\n",
       "    .dataframe thead th {\n",
       "        text-align: right;\n",
       "    }\n",
       "</style>\n",
       "<table border=\"1\" class=\"dataframe\">\n",
       "  <thead>\n",
       "    <tr style=\"text-align: right;\">\n",
       "      <th></th>\n",
       "      <th>Date</th>\n",
       "      <th>Open</th>\n",
       "      <th>Close</th>\n",
       "      <th>Daily Log Return</th>\n",
       "    </tr>\n",
       "  </thead>\n",
       "  <tbody>\n",
       "    <tr>\n",
       "      <th>0</th>\n",
       "      <td>2017-01-03 00:00:00-05:00</td>\n",
       "      <td>118.169998</td>\n",
       "      <td>118.550003</td>\n",
       "      <td>-0.003211</td>\n",
       "    </tr>\n",
       "    <tr>\n",
       "      <th>1</th>\n",
       "      <td>2017-01-04 00:00:00-05:00</td>\n",
       "      <td>120.269997</td>\n",
       "      <td>121.190002</td>\n",
       "      <td>-0.007620</td>\n",
       "    </tr>\n",
       "    <tr>\n",
       "      <th>2</th>\n",
       "      <td>2017-01-05 00:00:00-05:00</td>\n",
       "      <td>121.190002</td>\n",
       "      <td>120.440002</td>\n",
       "      <td>0.006208</td>\n",
       "    </tr>\n",
       "    <tr>\n",
       "      <th>3</th>\n",
       "      <td>2017-01-06 00:00:00-05:00</td>\n",
       "      <td>119.839996</td>\n",
       "      <td>120.129997</td>\n",
       "      <td>-0.002417</td>\n",
       "    </tr>\n",
       "    <tr>\n",
       "      <th>4</th>\n",
       "      <td>2017-01-09 00:00:00-05:00</td>\n",
       "      <td>119.480003</td>\n",
       "      <td>119.739998</td>\n",
       "      <td>-0.002174</td>\n",
       "    </tr>\n",
       "    <tr>\n",
       "      <th>...</th>\n",
       "      <td>...</td>\n",
       "      <td>...</td>\n",
       "      <td>...</td>\n",
       "      <td>...</td>\n",
       "    </tr>\n",
       "    <tr>\n",
       "      <th>1442</th>\n",
       "      <td>2022-09-26 00:00:00-04:00</td>\n",
       "      <td>136.130005</td>\n",
       "      <td>135.619995</td>\n",
       "      <td>0.003754</td>\n",
       "    </tr>\n",
       "    <tr>\n",
       "      <th>1443</th>\n",
       "      <td>2022-09-27 00:00:00-04:00</td>\n",
       "      <td>136.889999</td>\n",
       "      <td>135.740005</td>\n",
       "      <td>0.008436</td>\n",
       "    </tr>\n",
       "    <tr>\n",
       "      <th>1444</th>\n",
       "      <td>2022-09-28 00:00:00-04:00</td>\n",
       "      <td>134.759995</td>\n",
       "      <td>136.889999</td>\n",
       "      <td>-0.015682</td>\n",
       "    </tr>\n",
       "    <tr>\n",
       "      <th>1445</th>\n",
       "      <td>2022-09-29 00:00:00-04:00</td>\n",
       "      <td>135.110001</td>\n",
       "      <td>133.759995</td>\n",
       "      <td>0.010042</td>\n",
       "    </tr>\n",
       "    <tr>\n",
       "      <th>1446</th>\n",
       "      <td>2022-09-30 00:00:00-04:00</td>\n",
       "      <td>134.210007</td>\n",
       "      <td>130.289993</td>\n",
       "      <td>0.029643</td>\n",
       "    </tr>\n",
       "  </tbody>\n",
       "</table>\n",
       "<p>1447 rows × 4 columns</p>\n",
       "</div>"
      ],
      "text/plain": [
       "                          Date        Open       Close  Daily Log Return\n",
       "0    2017-01-03 00:00:00-05:00  118.169998  118.550003         -0.003211\n",
       "1    2017-01-04 00:00:00-05:00  120.269997  121.190002         -0.007620\n",
       "2    2017-01-05 00:00:00-05:00  121.190002  120.440002          0.006208\n",
       "3    2017-01-06 00:00:00-05:00  119.839996  120.129997         -0.002417\n",
       "4    2017-01-09 00:00:00-05:00  119.480003  119.739998         -0.002174\n",
       "...                        ...         ...         ...               ...\n",
       "1442 2022-09-26 00:00:00-04:00  136.130005  135.619995          0.003754\n",
       "1443 2022-09-27 00:00:00-04:00  136.889999  135.740005          0.008436\n",
       "1444 2022-09-28 00:00:00-04:00  134.759995  136.889999         -0.015682\n",
       "1445 2022-09-29 00:00:00-04:00  135.110001  133.759995          0.010042\n",
       "1446 2022-09-30 00:00:00-04:00  134.210007  130.289993          0.029643\n",
       "\n",
       "[1447 rows x 4 columns]"
      ]
     },
     "execution_count": 96,
     "metadata": {},
     "output_type": "execute_result"
    }
   ],
   "source": [
    "lgret_TM = pd.DataFrame({\n",
    "    'Open': TM['Open'],\n",
    "    'Close': TM['Close'],\n",
    "    'Daily Log Return': np.log(TM['Open']/TM['Close'])\n",
    "})\n",
    "lgret_TM\n",
    "lgret_TM.reset_index(inplace = True)\n",
    "lgret_TM"
   ]
  },
  {
   "cell_type": "code",
   "execution_count": 97,
   "id": "8f8559be",
   "metadata": {},
   "outputs": [
    {
     "name": "stderr",
     "output_type": "stream",
     "text": [
      "/Users/shrutiagarwal/opt/anaconda3/lib/python3.9/site-packages/seaborn/distributions.py:2619: FutureWarning: `distplot` is a deprecated function and will be removed in a future version. Please adapt your code to use either `displot` (a figure-level function with similar flexibility) or `histplot` (an axes-level function for histograms).\n",
      "  warnings.warn(msg, FutureWarning)\n"
     ]
    },
    {
     "data": {
      "text/plain": [
       "<AxesSubplot:xlabel='Daily Log Return', ylabel='Density'>"
      ]
     },
     "execution_count": 97,
     "metadata": {},
     "output_type": "execute_result"
    },
    {
     "data": {
      "image/png": "[encoded data removed]",
      "text/plain": [
       "<Figure size 432x288 with 1 Axes>"
      ]
     },
     "metadata": {
      "needs_background": "light"
     },
     "output_type": "display_data"
    }
   ],
   "source": [
    "sns.distplot(lgret_TM['Daily Log Return'], bins = 52, kde = True)"
   ]
  },
  {
   "cell_type": "code",
   "execution_count": 98,
   "id": "65007e0b",
   "metadata": {},
   "outputs": [
    {
     "name": "stdout",
     "output_type": "stream",
     "text": [
      "------------------------------\n",
      "RACE:\n",
      "mean   -0.000022\n",
      "std     0.012751\n",
      "Name: Daily Log Return, dtype: float64\n",
      "------------------------------\n",
      "GM:\n",
      "mean    0.000860\n",
      "std     0.018137\n",
      "Name: Daily Log Return, dtype: float64\n",
      "------------------------------\n",
      "F:\n",
      "mean   -0.000022\n",
      "std     0.012751\n",
      "Name: Daily Log Return, dtype: float64\n",
      "------------------------------\n",
      "HMC:\n",
      "mean    0.000436\n",
      "std     0.007819\n",
      "Name: Daily Log Return, dtype: float64\n",
      "------------------------------\n",
      "TM:\n",
      "mean    0.000441\n",
      "std     0.007016\n",
      "Name: Daily Log Return, dtype: float64\n",
      "------------------------------\n"
     ]
    }
   ],
   "source": [
    "print('-'*30)\n",
    "print(\"RACE:\")\n",
    "stats = lgret_R['Daily Log Return'].agg(['mean', 'std'])\n",
    "print(stats)\n",
    "print('-'*30)\n",
    "print(\"GM:\")\n",
    "stats = lgret_GM['Daily Log Return'].agg(['mean', 'std'])\n",
    "print(stats)\n",
    "print('-'*30)\n",
    "print(\"F:\")\n",
    "stats = lgret_R['Daily Log Return'].agg(['mean', 'std'])\n",
    "print(stats)\n",
    "print('-'*30)\n",
    "print(\"HMC:\")\n",
    "stats = lgret_HMC['Daily Log Return'].agg(['mean', 'std'])\n",
    "print(stats)\n",
    "print('-'*30)\n",
    "print(\"TM:\")\n",
    "stats = lgret_TM['Daily Log Return'].agg(['mean', 'std'])\n",
    "print(stats)\n",
    "print('-'*30)"
   ]
  },
  {
   "cell_type": "code",
   "execution_count": 99,
   "id": "33b9f654",
   "metadata": {},
   "outputs": [],
   "source": [
    "import scipy.stats"
   ]
  },
  {
   "cell_type": "code",
   "execution_count": 100,
   "id": "bf985b2f",
   "metadata": {},
   "outputs": [],
   "source": [
    "def mean_confidence_interval(data, confidence=0.95):\n",
    "    a = 1.0 * np.array(data)\n",
    "    n = len(a)\n",
    "    m, se = np.mean(a), scipy.stats.sem(a)\n",
    "    h = se * scipy.stats.t.ppf((1 + confidence) / 2., n-1)\n",
    "    return m, m-h, m+h"
   ]
  },
  {
   "cell_type": "code",
   "execution_count": 101,
   "id": "71ab1d50",
   "metadata": {},
   "outputs": [
    {
     "name": "stdout",
     "output_type": "stream",
     "text": [
      "------------------------------\n",
      "RACE Confidence Interval: \n",
      "(-2.1622658855011815e-05, -0.0006791835547543574, 0.0006359382370443339)\n",
      "------------------------------\n",
      "GM Confidence Interval: \n",
      "(0.0008601255570649566, -7.517658415130213e-05, 0.0017954276982812152)\n",
      "------------------------------\n",
      "F Confidence Interval: \n",
      "(0.001120523873091188, 0.00016930369488274866, 0.0020717440512996272)\n",
      "------------------------------\n",
      "HMC Confidence Interval: \n",
      "(0.00043554489784362427, 3.231671661212539e-05, 0.0008387730790751231)\n",
      "------------------------------\n",
      "TM Confidence Interval: \n",
      "(0.00044079627931491985, 7.899282610040651e-05, 0.0008025997325294331)\n",
      "------------------------------\n"
     ]
    }
   ],
   "source": [
    "print('-'*30)\n",
    "print(\"RACE Confidence Interval: \")\n",
    "print(mean_confidence_interval(lgret_R['Daily Log Return']))\n",
    "print('-'*30)\n",
    "print(\"GM Confidence Interval: \")\n",
    "print(mean_confidence_interval(lgret_GM['Daily Log Return']))\n",
    "print('-'*30)\n",
    "print(\"F Confidence Interval: \")\n",
    "print(mean_confidence_interval(lgret_F['Daily Log Return']))\n",
    "print('-'*30)\n",
    "print(\"HMC Confidence Interval: \")\n",
    "print(mean_confidence_interval(lgret_HMC['Daily Log Return']))\n",
    "print('-'*30)\n",
    "print(\"TM Confidence Interval: \")\n",
    "print(mean_confidence_interval(lgret_TM['Daily Log Return']))\n",
    "print('-'*30)"
   ]
  },
  {
   "cell_type": "code",
   "execution_count": 81,
   "id": "f99cb964",
   "metadata": {},
   "outputs": [],
   "source": [
    "from sklearn.model_selection import train_test_split\n",
    "train, test = train_test_split(lgret_R, test_size = 0.3)\n",
    "\n",
    "x_train = train.iloc[0:,0:2]#independent variables \n",
    "y_train = train['Daily Log Return']# last column \n",
    "x_test = test.iloc[0:,0:2]\n",
    "y_test = test['Daily Log Return']"
   ]
  },
  {
   "cell_type": "code",
   "execution_count": 103,
   "id": "d716d2d1",
   "metadata": {},
   "outputs": [],
   "source": [
    "from matplotlib import pyplot as plt"
   ]
  },
  {
   "cell_type": "code",
   "execution_count": 104,
   "id": "783842fc",
   "metadata": {},
   "outputs": [
    {
     "data": {
      "image/png": "[encoded data removed]",
      "text/plain": [
       "<Figure size 432x288 with 1 Axes>"
      ]
     },
     "metadata": {
      "needs_background": "light"
     },
     "output_type": "display_data"
    }
   ],
   "source": [
    "x=pd.to_datetime(lgret_R['Date'], format='%Y-%m-%d')\n",
    "y=lgret_R['Daily Log Return'].values.reshape(-1, 1)\n",
    "\n",
    "lm = linear_model.LinearRegression()\n",
    "model = lm.fit(x.values.reshape(-1, 1),y)\n",
    "\n",
    "predictions = lm.predict(x.values.astype(float).reshape(-1, 1))\n",
    "\n",
    "f, ax = plt.subplots(1, 1)\n",
    "ax.plot(x, predictions,label='Linear fit', lw=3)\n",
    "ax.scatter(x, y,label='value', marker='o', color='r')\n",
    "plt.ylabel('bat')\n",
    "ax.legend();\n",
    "\n",
    "plt.show()"
   ]
  },
  {
   "cell_type": "code",
   "execution_count": 105,
   "id": "1e713089",
   "metadata": {},
   "outputs": [
    {
     "data": {
      "text/plain": [
       "array([[-0.00060196],\n",
       "       [-0.00060141],\n",
       "       [-0.00060085],\n",
       "       ...,\n",
       "       [ 0.00055723],\n",
       "       [ 0.00055779],\n",
       "       [ 0.00055834]])"
      ]
     },
     "execution_count": 105,
     "metadata": {},
     "output_type": "execute_result"
    }
   ],
   "source": [
    "predictions"
   ]
  },
  {
   "cell_type": "code",
   "execution_count": 38,
   "id": "db370e7e",
   "metadata": {},
   "outputs": [
    {
     "data": {
      "text/plain": [
       "array([ 0.00602526, -0.00602121])"
      ]
     },
     "execution_count": 38,
     "metadata": {},
     "output_type": "execute_result"
    }
   ],
   "source": [
    "from sklearn import linear_model\n",
    "model = linear_model.LinearRegression()\n",
    "model.fit(x_train,y_train)\n",
    "model.coef_"
   ]
  },
  {
   "cell_type": "code",
   "execution_count": 39,
   "id": "0e30d40e",
   "metadata": {},
   "outputs": [
    {
     "data": {
      "text/plain": [
       "array([ 7.18221785e-03, -1.61677704e-03,  5.06473543e-03, -2.13853813e-03,\n",
       "        1.90293460e-02,  9.40342665e-03, -5.85173071e-03, -3.11302146e-03,\n",
       "        2.55513322e-02,  3.98400110e-03, -4.59553597e-05,  2.16202832e-02,\n",
       "       -6.78194974e-03, -1.48407672e-02, -1.14902919e-02, -4.06211801e-03,\n",
       "        2.07470987e-03,  5.52525956e-03, -3.41962615e-03,  1.01723972e-02,\n",
       "        1.52324409e-03, -2.92347194e-03, -4.02538092e-03,  8.87972369e-04,\n",
       "        1.01080438e-02,  1.38843015e-02,  6.08245074e-03,  9.89457877e-03,\n",
       "       -2.95033097e-02, -6.81790882e-03, -7.26405324e-04,  1.09244700e-02,\n",
       "        5.14971330e-03, -4.36356005e-03,  1.40536820e-02,  2.12609116e-03,\n",
       "       -1.73316871e-03, -6.00070574e-03, -2.92258252e-03,  1.30641128e-03,\n",
       "       -3.34608403e-02, -2.15192337e-03,  1.17882572e-02,  4.41367881e-04,\n",
       "        3.62651757e-03,  1.97451761e-02, -1.74999312e-02, -8.05927086e-03,\n",
       "        4.47065400e-03,  4.25805410e-03,  4.06273124e-03,  1.48969682e-02,\n",
       "        9.21317490e-03, -6.44529203e-03,  1.54478801e-02, -9.89725107e-03,\n",
       "       -4.17821842e-03,  2.33719346e-03,  3.57631253e-03, -2.89745872e-03,\n",
       "       -2.44967761e-03,  4.40395870e-04, -3.70719492e-03, -2.64430693e-03,\n",
       "       -3.75925582e-02,  8.01921726e-03, -5.51258652e-03,  1.52737829e-02,\n",
       "       -1.30680315e-02,  1.67636931e-02,  2.01042654e-03,  3.24552813e-03,\n",
       "        1.18602048e-02, -1.15065644e-03, -8.75650040e-03, -1.08823351e-02,\n",
       "        7.64630764e-03,  7.75380997e-03, -2.87802026e-03,  1.14138440e-02,\n",
       "        7.77868309e-03,  2.01569433e-02, -1.13916802e-02,  7.67333303e-03,\n",
       "       -2.33902979e-02,  2.65202207e-03, -1.62448971e-02,  1.06482239e-02,\n",
       "        6.61134541e-03,  1.57988291e-04, -4.55209704e-03,  2.43219327e-03,\n",
       "       -1.47230011e-02, -6.96200857e-03, -4.25061255e-03,  5.52477257e-03,\n",
       "        8.33038645e-03,  8.28681283e-03, -8.85769510e-04, -7.50320352e-03,\n",
       "        4.02831791e-03, -1.93408623e-03, -3.00081663e-03, -9.11988782e-04,\n",
       "        1.14309620e-02, -2.86020519e-03, -7.77242927e-03,  1.47646019e-02,\n",
       "       -1.51564403e-03,  5.76554287e-03, -1.25101080e-02, -1.42454740e-02,\n",
       "       -1.49624310e-02,  1.74640985e-02, -8.66636481e-03, -1.78214704e-03,\n",
       "       -4.26202123e-03,  6.87102249e-05, -1.12934379e-03, -3.92583584e-03,\n",
       "        2.65952953e-03, -2.60908592e-03, -4.20323787e-02, -5.04562106e-03,\n",
       "       -8.92252110e-03,  4.62016236e-03,  2.22092719e-03,  6.65253770e-03,\n",
       "       -2.82818282e-04, -1.49953276e-03,  4.16304480e-02,  4.15967794e-02,\n",
       "        1.44115380e-02,  5.20092740e-03, -3.80900706e-03,  2.94311398e-03,\n",
       "       -1.88744919e-03,  7.05235674e-03, -7.68972033e-03, -5.22843381e-03,\n",
       "       -9.08340090e-04, -8.11141278e-04,  2.24373015e-03, -2.00277752e-02,\n",
       "       -6.28096604e-03,  2.65121892e-04, -7.55510750e-03, -1.56961963e-02,\n",
       "       -2.20878330e-03, -1.18937116e-03, -1.23518435e-02,  1.04033544e-02,\n",
       "       -1.81797919e-02, -5.43033837e-03, -1.31793378e-03,  1.56993255e-02,\n",
       "       -8.82942948e-04, -2.44052958e-02, -4.06847742e-04,  9.78505112e-03,\n",
       "       -3.86111541e-03,  1.67376468e-02, -1.49070355e-02, -1.24611666e-02,\n",
       "        2.96889048e-03, -5.75433120e-03, -6.52174042e-03,  6.14774285e-03,\n",
       "       -3.23619185e-03, -1.58211276e-03, -8.33260079e-04, -3.30194334e-03,\n",
       "       -1.78913415e-03, -5.15844144e-03,  9.02162769e-03, -9.43356380e-03,\n",
       "        1.34633793e-03, -6.43541250e-04,  1.27793418e-02, -4.64194493e-03,\n",
       "        1.09059836e-03, -2.95702934e-03,  3.38408470e-03,  1.00452179e-02,\n",
       "       -1.94207727e-03, -7.67784425e-05,  5.51673743e-03,  1.49884463e-02,\n",
       "       -5.95302234e-03,  3.63410790e-03, -2.26060441e-03,  1.13106332e-03,\n",
       "        7.22916562e-03, -2.10402532e-02, -8.08884775e-03, -7.69678481e-03,\n",
       "       -2.33442941e-03, -7.93772361e-04,  9.50840258e-03, -3.26191776e-02,\n",
       "       -2.49667476e-03,  9.58632256e-04,  1.32660332e-02,  6.28385533e-03,\n",
       "        2.81597707e-02, -8.99929977e-03,  6.30231250e-03, -1.05072762e-02,\n",
       "        5.87758896e-03,  1.33042982e-02, -1.93154830e-02,  3.78210754e-03,\n",
       "       -1.67582484e-03, -7.06224709e-03, -1.78147268e-02, -7.35821413e-03,\n",
       "        3.82340836e-02, -2.50121610e-03,  5.09355045e-03, -4.01621682e-03,\n",
       "       -4.35722538e-04,  2.86994719e-03, -5.07625649e-03,  1.25876781e-02,\n",
       "        1.19903059e-02,  5.54933152e-03, -1.96078772e-02, -1.27692253e-02,\n",
       "        1.96745867e-02,  4.53486497e-03, -1.54145746e-03,  8.49377514e-03,\n",
       "        7.37258621e-03,  5.77706849e-03, -1.27745450e-02,  7.28854161e-03,\n",
       "        9.90414905e-03, -1.02599753e-02,  5.41430765e-03, -4.25597667e-03,\n",
       "       -1.87105994e-02,  1.28774237e-02, -1.64043258e-03,  1.11981068e-02,\n",
       "       -4.75228983e-03,  1.90366471e-02, -2.33076633e-03, -3.93173289e-03,\n",
       "       -1.13190408e-03, -5.04890816e-03,  2.13781072e-03,  1.51318674e-02,\n",
       "       -9.26592477e-03, -1.55349213e-02,  3.40375957e-03,  1.05843006e-02,\n",
       "        7.49985009e-03, -1.24979350e-03, -3.43999456e-03, -4.49982780e-03,\n",
       "       -7.21000857e-03, -1.02223155e-02,  1.19689656e-02,  9.04609132e-03,\n",
       "        4.42732189e-02,  3.74724941e-03, -6.47072595e-03,  7.61562417e-04,\n",
       "       -8.64514394e-03,  3.26441300e-03,  5.78050195e-04, -8.91148130e-03,\n",
       "       -9.31007741e-03,  1.83874557e-02, -8.26168452e-03, -2.30062128e-03,\n",
       "        1.05169792e-02,  9.70210377e-03,  5.13891108e-04,  7.68127245e-03,\n",
       "       -2.22753397e-03,  1.27581276e-03,  8.43306293e-05, -1.97714170e-03,\n",
       "       -4.16502952e-03,  6.10394980e-03, -5.59115627e-03,  7.60021583e-04,\n",
       "        4.89266581e-03,  2.89753767e-02,  3.81485861e-03, -6.78455074e-03,\n",
       "       -5.24903468e-02, -2.34051507e-02, -4.53624037e-03, -1.09296973e-02,\n",
       "        3.35145356e-03, -1.77782403e-02, -8.91504687e-03, -1.24329219e-02,\n",
       "       -8.50148143e-03,  5.80600656e-03, -4.33636527e-03,  6.30282780e-04,\n",
       "       -1.08592439e-02,  1.19049628e-02, -1.69989107e-02,  3.36253563e-03,\n",
       "        2.71140028e-03, -5.68319167e-03, -4.49374084e-03, -1.72386990e-03,\n",
       "       -1.15741705e-02,  1.59653290e-03, -1.98647195e-03, -3.41297077e-03,\n",
       "        4.21815885e-03, -2.19871723e-03, -8.06137193e-03,  1.02197659e-03,\n",
       "        2.02070267e-02,  2.11870543e-03,  1.28983566e-02,  2.88584134e-02,\n",
       "        2.83513186e-03, -1.32080788e-03, -2.40970499e-03,  9.74004061e-03,\n",
       "        8.26623049e-03,  8.22864827e-03,  5.29511362e-03, -1.05680339e-02,\n",
       "       -1.32338958e-02, -7.38459414e-03, -6.16002918e-03,  2.81443428e-02,\n",
       "        7.61728970e-03, -1.43650289e-02, -3.02874214e-03, -6.03398645e-03,\n",
       "        1.33226555e-02, -3.22820080e-03,  3.41605579e-03, -1.73206937e-03,\n",
       "       -6.67356350e-03, -1.15917498e-02,  3.51118004e-02,  1.89331003e-03,\n",
       "        1.11648721e-02, -3.20092447e-03, -3.18054754e-02,  8.67854329e-03,\n",
       "       -1.44336914e-02,  9.91175023e-04, -6.88107047e-04,  1.01001067e-02,\n",
       "       -6.24521744e-03,  6.04162369e-03, -2.70977263e-03,  9.79012382e-03,\n",
       "       -4.44268894e-03,  5.65986135e-03,  8.82042414e-03,  1.64612884e-03,\n",
       "       -2.72636323e-02, -1.15232458e-02,  2.06111298e-03, -8.92064769e-04,\n",
       "       -9.68397173e-04,  2.49590821e-03,  3.20568436e-03,  1.65387195e-02,\n",
       "       -2.81718480e-03,  2.20316243e-04, -8.10825272e-03,  3.53049588e-03,\n",
       "       -6.04323536e-03,  3.08234942e-03, -3.60562122e-04,  2.84125785e-03,\n",
       "        2.78339779e-02,  4.22119491e-03,  1.88538744e-03,  1.38920896e-02,\n",
       "       -3.44296056e-03,  3.80912027e-04, -4.62266843e-03, -1.28714136e-02,\n",
       "        3.63500411e-02, -7.02382363e-03, -2.54178851e-02, -3.12109916e-02,\n",
       "        2.25798941e-02,  1.35434705e-03,  1.27727693e-02,  3.97008633e-04,\n",
       "        4.63826163e-03,  2.55495799e-02,  1.11128060e-02,  3.10097157e-04,\n",
       "       -5.69913658e-03,  2.26240487e-03, -6.18418613e-03, -7.77587848e-03,\n",
       "        9.77867550e-04,  5.47658403e-04,  1.85320183e-02, -7.38726872e-03,\n",
       "       -9.57920407e-03,  9.54647650e-04,  8.93100520e-03, -1.07455346e-02,\n",
       "       -1.04660488e-02,  1.77223303e-02,  8.45046752e-03,  2.06314215e-03,\n",
       "        1.74114677e-02,  5.69006861e-03, -4.32171983e-05, -9.45698671e-03,\n",
       "       -5.93586003e-03, -2.31330141e-02,  4.56887076e-03,  3.53492310e-03,\n",
       "        8.66016008e-03,  8.78339905e-03,  3.87492232e-02, -1.41512062e-02,\n",
       "        9.01318696e-03, -2.56184160e-03, -2.80863159e-04,  2.09046336e-02,\n",
       "        4.82238058e-03,  2.20116019e-03, -5.31008398e-03])"
      ]
     },
     "execution_count": 39,
     "metadata": {},
     "output_type": "execute_result"
    }
   ],
   "source": [
    "testing_predictions = model.predict(x_test)\n",
    "testing_predictions"
   ]
  },
  {
   "cell_type": "code",
   "execution_count": 40,
   "id": "58d2c6c1",
   "metadata": {},
   "outputs": [
    {
     "data": {
      "text/plain": [
       "728     0.007296\n",
       "1067   -0.001339\n",
       "975     0.003989\n",
       "39     -0.004107\n",
       "955     0.016549\n",
       "          ...   \n",
       "294     0.000000\n",
       "790     0.021378\n",
       "62      0.011866\n",
       "658     0.002508\n",
       "128    -0.009453\n",
       "Name: Daily Log Return, Length: 435, dtype: float64"
      ]
     },
     "execution_count": 40,
     "metadata": {},
     "output_type": "execute_result"
    }
   ],
   "source": [
    "y_test"
   ]
  },
  {
   "cell_type": "code",
   "execution_count": 107,
   "id": "5e47dc76",
   "metadata": {},
   "outputs": [
    {
     "data": {
      "text/plain": [
       "0.0006927147128878985"
      ]
     },
     "execution_count": 107,
     "metadata": {},
     "output_type": "execute_result"
    }
   ],
   "source": [
    "from sklearn.metrics import confusion_matrix\n",
    "from sklearn.metrics import mean_squared_error\n",
    "import math\n",
    "from sklearn.metrics import r2_score\n",
    "r2_score(y, predictions)"
   ]
  },
  {
   "cell_type": "code",
   "execution_count": 44,
   "id": "1238bd0e",
   "metadata": {},
   "outputs": [
    {
     "data": {
      "text/plain": [
       "<seaborn.axisgrid.FacetGrid at 0x7f7843f8a310>"
      ]
     },
     "execution_count": 44,
     "metadata": {},
     "output_type": "execute_result"
    },
    {
     "data": {
      "image/png": "[encoded data removed]",
      "text/plain": [
       "<Figure size 360x360 with 1 Axes>"
      ]
     },
     "metadata": {
      "needs_background": "light"
     },
     "output_type": "display_data"
    }
   ],
   "source": [
    "import seaborn as sns\n",
    "sns.lmplot(y = 'Daily Log Return', x='Open', data=lgret_R)"
   ]
  },
  {
   "cell_type": "code",
   "execution_count": 17,
   "id": "21952650",
   "metadata": {
    "scrolled": true
   },
   "outputs": [
    {
     "ename": "ValueError",
     "evalue": "Unknown label type: 'continuous'",
     "output_type": "error",
     "traceback": [
      "\u001b[0;31m---------------------------------------------------------------------------\u001b[0m",
      "\u001b[0;31mValueError\u001b[0m                                Traceback (most recent call last)",
      "Input \u001b[0;32mIn [17]\u001b[0m, in \u001b[0;36m<cell line: 3>\u001b[0;34m()\u001b[0m\n\u001b[1;32m      1\u001b[0m \u001b[38;5;28;01mfrom\u001b[39;00m \u001b[38;5;21;01msklearn\u001b[39;00m\u001b[38;5;21;01m.\u001b[39;00m\u001b[38;5;21;01mlinear_model\u001b[39;00m \u001b[38;5;28;01mimport\u001b[39;00m LogisticRegression\n\u001b[1;32m      2\u001b[0m logit \u001b[38;5;241m=\u001b[39m LogisticRegression()\n\u001b[0;32m----> 3\u001b[0m \u001b[43mlogit\u001b[49m\u001b[38;5;241;43m.\u001b[39;49m\u001b[43mfit\u001b[49m\u001b[43m(\u001b[49m\u001b[43mx_train\u001b[49m\u001b[43m,\u001b[49m\u001b[43my_train\u001b[49m\u001b[43m)\u001b[49m\n\u001b[1;32m      5\u001b[0m y_pred \u001b[38;5;241m=\u001b[39m logit\u001b[38;5;241m.\u001b[39mpredict(x_test)\n\u001b[1;32m      6\u001b[0m y_pred\n",
      "File \u001b[0;32m~/opt/anaconda3/lib/python3.9/site-packages/sklearn/linear_model/_logistic.py:1516\u001b[0m, in \u001b[0;36mLogisticRegression.fit\u001b[0;34m(self, X, y, sample_weight)\u001b[0m\n\u001b[1;32m   1506\u001b[0m     _dtype \u001b[38;5;241m=\u001b[39m [np\u001b[38;5;241m.\u001b[39mfloat64, np\u001b[38;5;241m.\u001b[39mfloat32]\n\u001b[1;32m   1508\u001b[0m X, y \u001b[38;5;241m=\u001b[39m \u001b[38;5;28mself\u001b[39m\u001b[38;5;241m.\u001b[39m_validate_data(\n\u001b[1;32m   1509\u001b[0m     X,\n\u001b[1;32m   1510\u001b[0m     y,\n\u001b[0;32m   (...)\u001b[0m\n\u001b[1;32m   1514\u001b[0m     accept_large_sparse\u001b[38;5;241m=\u001b[39msolver \u001b[38;5;129;01mnot\u001b[39;00m \u001b[38;5;129;01min\u001b[39;00m [\u001b[38;5;124m\"\u001b[39m\u001b[38;5;124mliblinear\u001b[39m\u001b[38;5;124m\"\u001b[39m, \u001b[38;5;124m\"\u001b[39m\u001b[38;5;124msag\u001b[39m\u001b[38;5;124m\"\u001b[39m, \u001b[38;5;124m\"\u001b[39m\u001b[38;5;124msaga\u001b[39m\u001b[38;5;124m\"\u001b[39m],\n\u001b[1;32m   1515\u001b[0m )\n\u001b[0;32m-> 1516\u001b[0m \u001b[43mcheck_classification_targets\u001b[49m\u001b[43m(\u001b[49m\u001b[43my\u001b[49m\u001b[43m)\u001b[49m\n\u001b[1;32m   1517\u001b[0m \u001b[38;5;28mself\u001b[39m\u001b[38;5;241m.\u001b[39mclasses_ \u001b[38;5;241m=\u001b[39m np\u001b[38;5;241m.\u001b[39munique(y)\n\u001b[1;32m   1519\u001b[0m multi_class \u001b[38;5;241m=\u001b[39m _check_multi_class(\u001b[38;5;28mself\u001b[39m\u001b[38;5;241m.\u001b[39mmulti_class, solver, \u001b[38;5;28mlen\u001b[39m(\u001b[38;5;28mself\u001b[39m\u001b[38;5;241m.\u001b[39mclasses_))\n",
      "File \u001b[0;32m~/opt/anaconda3/lib/python3.9/site-packages/sklearn/utils/multiclass.py:197\u001b[0m, in \u001b[0;36mcheck_classification_targets\u001b[0;34m(y)\u001b[0m\n\u001b[1;32m    189\u001b[0m y_type \u001b[38;5;241m=\u001b[39m type_of_target(y)\n\u001b[1;32m    190\u001b[0m \u001b[38;5;28;01mif\u001b[39;00m y_type \u001b[38;5;129;01mnot\u001b[39;00m \u001b[38;5;129;01min\u001b[39;00m [\n\u001b[1;32m    191\u001b[0m     \u001b[38;5;124m\"\u001b[39m\u001b[38;5;124mbinary\u001b[39m\u001b[38;5;124m\"\u001b[39m,\n\u001b[1;32m    192\u001b[0m     \u001b[38;5;124m\"\u001b[39m\u001b[38;5;124mmulticlass\u001b[39m\u001b[38;5;124m\"\u001b[39m,\n\u001b[0;32m   (...)\u001b[0m\n\u001b[1;32m    195\u001b[0m     \u001b[38;5;124m\"\u001b[39m\u001b[38;5;124mmultilabel-sequences\u001b[39m\u001b[38;5;124m\"\u001b[39m,\n\u001b[1;32m    196\u001b[0m ]:\n\u001b[0;32m--> 197\u001b[0m     \u001b[38;5;28;01mraise\u001b[39;00m \u001b[38;5;167;01mValueError\u001b[39;00m(\u001b[38;5;124m\"\u001b[39m\u001b[38;5;124mUnknown label type: \u001b[39m\u001b[38;5;132;01m%r\u001b[39;00m\u001b[38;5;124m\"\u001b[39m \u001b[38;5;241m%\u001b[39m y_type)\n",
      "\u001b[0;31mValueError\u001b[0m: Unknown label type: 'continuous'"
     ]
    }
   ],
   "source": [
    "from sklearn.linear_model import LogisticRegression\n",
    "logit = LogisticRegression()\n",
    "logit.fit(x_train,y_train)\n",
    "\n",
    "y_pred = logit.predict(x_test)\n",
    "y_pred"
   ]
  },
  {
   "cell_type": "code",
   "execution_count": null,
   "id": "495c088a",
   "metadata": {},
   "outputs": [],
   "source": [
    "daily log returns log open/close\n",
    "histogram of log returns\n",
    "confidence interval log returns\n",
    "regression"
   ]
  }
 ],
 "metadata": {
  "kernelspec": {
   "display_name": "Python 3 (ipykernel)",
   "language": "python",
   "name": "python3"
  },
  "language_info": {
   "codemirror_mode": {
    "name": "ipython",
    "version": 3
   },
   "file_extension": ".py",
   "mimetype": "text/x-python",
   "name": "python",
   "nbconvert_exporter": "python",
   "pygments_lexer": "ipython3",
   "version": "3.9.12"
  }
 },
 "nbformat": 4,
 "nbformat_minor": 5
}

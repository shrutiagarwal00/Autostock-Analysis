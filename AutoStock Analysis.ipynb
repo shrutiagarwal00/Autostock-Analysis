{
 "cells": [
  {
   "cell_type": "code",
   "execution_count": 2,
   "id": "7f060dae",
   "metadata": {},
   "outputs": [],
   "source": [
    "import datetime\n",
    "import numpy as np\n",
    "import pandas as pd\n",
    "%matplotlib inline\n",
    "from matplotlib import pyplot as plt\n",
    "import pandas_datareader.data as web\n",
    "import fix_yahoo_finance as yf\n",
    "import seaborn as sns"
   ]
  },
  {
   "cell_type": "code",
   "execution_count": 3,
   "id": "99b82d1e",
   "metadata": {},
   "outputs": [],
   "source": [
    "#download stock price for HMC, RACE, TM, GM, F from 1 Jan 2017 to 1 Oct 2022\n",
    "start_date = datetime.datetime(2017, 1, 1)\n",
    "end_date = datetime.datetime(2022, 10, 1)"
   ]
  },
  {
   "cell_type": "markdown",
   "id": "06647c9a",
   "metadata": {},
   "source": [
    "<h1 style=\"color:red;\">Datasets</h1>"
   ]
  },
  {
   "cell_type": "markdown",
   "id": "f795f492",
   "metadata": {},
   "source": [
    "<h3>Honda Motors(HMC)</h3>"
   ]
  },
  {
   "cell_type": "code",
   "execution_count": 4,
   "id": "e2796879",
   "metadata": {
    "scrolled": true
   },
   "outputs": [
    {
     "name": "stdout",
     "output_type": "stream",
     "text": [
      "[*********************100%***********************]  1 of 1 completed\n"
     ]
    },
    {
     "data": {
      "text/html": [
       "<div>\n",
       "<style scoped>\n",
       "    .dataframe tbody tr th:only-of-type {\n",
       "        vertical-align: middle;\n",
       "    }\n",
       "\n",
       "    .dataframe tbody tr th {\n",
       "        vertical-align: top;\n",
       "    }\n",
       "\n",
       "    .dataframe thead th {\n",
       "        text-align: right;\n",
       "    }\n",
       "</style>\n",
       "<table border=\"1\" class=\"dataframe\">\n",
       "  <thead>\n",
       "    <tr style=\"text-align: right;\">\n",
       "      <th></th>\n",
       "      <th>Open</th>\n",
       "      <th>High</th>\n",
       "      <th>Low</th>\n",
       "      <th>Close</th>\n",
       "      <th>Adj Close</th>\n",
       "      <th>Volume</th>\n",
       "    </tr>\n",
       "    <tr>\n",
       "      <th>Date</th>\n",
       "      <th></th>\n",
       "      <th></th>\n",
       "      <th></th>\n",
       "      <th></th>\n",
       "      <th></th>\n",
       "      <th></th>\n",
       "    </tr>\n",
       "  </thead>\n",
       "  <tbody>\n",
       "    <tr>\n",
       "      <th>2017-01-03 00:00:00-05:00</th>\n",
       "      <td>29.480000</td>\n",
       "      <td>29.610001</td>\n",
       "      <td>29.420000</td>\n",
       "      <td>29.610001</td>\n",
       "      <td>25.722599</td>\n",
       "      <td>864500</td>\n",
       "    </tr>\n",
       "    <tr>\n",
       "      <th>2017-01-04 00:00:00-05:00</th>\n",
       "      <td>30.209999</td>\n",
       "      <td>30.670000</td>\n",
       "      <td>30.209999</td>\n",
       "      <td>30.660000</td>\n",
       "      <td>26.634747</td>\n",
       "      <td>705500</td>\n",
       "    </tr>\n",
       "    <tr>\n",
       "      <th>2017-01-05 00:00:00-05:00</th>\n",
       "      <td>30.620001</td>\n",
       "      <td>30.780001</td>\n",
       "      <td>30.580000</td>\n",
       "      <td>30.660000</td>\n",
       "      <td>26.634747</td>\n",
       "      <td>482600</td>\n",
       "    </tr>\n",
       "    <tr>\n",
       "      <th>2017-01-06 00:00:00-05:00</th>\n",
       "      <td>30.350000</td>\n",
       "      <td>30.580000</td>\n",
       "      <td>30.240000</td>\n",
       "      <td>30.469999</td>\n",
       "      <td>26.469692</td>\n",
       "      <td>493600</td>\n",
       "    </tr>\n",
       "    <tr>\n",
       "      <th>2017-01-09 00:00:00-05:00</th>\n",
       "      <td>30.370001</td>\n",
       "      <td>30.500000</td>\n",
       "      <td>30.299999</td>\n",
       "      <td>30.430000</td>\n",
       "      <td>26.434942</td>\n",
       "      <td>585200</td>\n",
       "    </tr>\n",
       "  </tbody>\n",
       "</table>\n",
       "</div>"
      ],
      "text/plain": [
       "                                Open       High        Low      Close  \\\n",
       "Date                                                                    \n",
       "2017-01-03 00:00:00-05:00  29.480000  29.610001  29.420000  29.610001   \n",
       "2017-01-04 00:00:00-05:00  30.209999  30.670000  30.209999  30.660000   \n",
       "2017-01-05 00:00:00-05:00  30.620001  30.780001  30.580000  30.660000   \n",
       "2017-01-06 00:00:00-05:00  30.350000  30.580000  30.240000  30.469999   \n",
       "2017-01-09 00:00:00-05:00  30.370001  30.500000  30.299999  30.430000   \n",
       "\n",
       "                           Adj Close  Volume  \n",
       "Date                                          \n",
       "2017-01-03 00:00:00-05:00  25.722599  864500  \n",
       "2017-01-04 00:00:00-05:00  26.634747  705500  \n",
       "2017-01-05 00:00:00-05:00  26.634747  482600  \n",
       "2017-01-06 00:00:00-05:00  26.469692  493600  \n",
       "2017-01-09 00:00:00-05:00  26.434942  585200  "
      ]
     },
     "execution_count": 4,
     "metadata": {},
     "output_type": "execute_result"
    }
   ],
   "source": [
    "#download stock prices\n",
    "hmc = yf.download('HMC', start_date, end_date)\n",
    "hmc.head()"
   ]
  },
  {
   "cell_type": "code",
   "execution_count": 5,
   "id": "ccad4b56",
   "metadata": {
    "scrolled": true
   },
   "outputs": [
    {
     "data": {
      "text/html": [
       "<div>\n",
       "<style scoped>\n",
       "    .dataframe tbody tr th:only-of-type {\n",
       "        vertical-align: middle;\n",
       "    }\n",
       "\n",
       "    .dataframe tbody tr th {\n",
       "        vertical-align: top;\n",
       "    }\n",
       "\n",
       "    .dataframe thead th {\n",
       "        text-align: right;\n",
       "    }\n",
       "</style>\n",
       "<table border=\"1\" class=\"dataframe\">\n",
       "  <thead>\n",
       "    <tr style=\"text-align: right;\">\n",
       "      <th></th>\n",
       "      <th>Date</th>\n",
       "      <th>Open</th>\n",
       "      <th>High</th>\n",
       "      <th>Low</th>\n",
       "      <th>Close</th>\n",
       "      <th>Adj Close</th>\n",
       "      <th>Volume</th>\n",
       "      <th>Log_return</th>\n",
       "    </tr>\n",
       "  </thead>\n",
       "  <tbody>\n",
       "    <tr>\n",
       "      <th>0</th>\n",
       "      <td>2017-01-03 00:00:00-05:00</td>\n",
       "      <td>29.480000</td>\n",
       "      <td>29.610001</td>\n",
       "      <td>29.420000</td>\n",
       "      <td>29.610001</td>\n",
       "      <td>25.722599</td>\n",
       "      <td>864500</td>\n",
       "      <td>0.004400</td>\n",
       "    </tr>\n",
       "    <tr>\n",
       "      <th>1</th>\n",
       "      <td>2017-01-04 00:00:00-05:00</td>\n",
       "      <td>30.209999</td>\n",
       "      <td>30.670000</td>\n",
       "      <td>30.209999</td>\n",
       "      <td>30.660000</td>\n",
       "      <td>26.634747</td>\n",
       "      <td>705500</td>\n",
       "      <td>0.014786</td>\n",
       "    </tr>\n",
       "    <tr>\n",
       "      <th>2</th>\n",
       "      <td>2017-01-05 00:00:00-05:00</td>\n",
       "      <td>30.620001</td>\n",
       "      <td>30.780001</td>\n",
       "      <td>30.580000</td>\n",
       "      <td>30.660000</td>\n",
       "      <td>26.634747</td>\n",
       "      <td>482600</td>\n",
       "      <td>0.001305</td>\n",
       "    </tr>\n",
       "    <tr>\n",
       "      <th>3</th>\n",
       "      <td>2017-01-06 00:00:00-05:00</td>\n",
       "      <td>30.350000</td>\n",
       "      <td>30.580000</td>\n",
       "      <td>30.240000</td>\n",
       "      <td>30.469999</td>\n",
       "      <td>26.469692</td>\n",
       "      <td>493600</td>\n",
       "      <td>0.003946</td>\n",
       "    </tr>\n",
       "    <tr>\n",
       "      <th>4</th>\n",
       "      <td>2017-01-09 00:00:00-05:00</td>\n",
       "      <td>30.370001</td>\n",
       "      <td>30.500000</td>\n",
       "      <td>30.299999</td>\n",
       "      <td>30.430000</td>\n",
       "      <td>26.434942</td>\n",
       "      <td>585200</td>\n",
       "      <td>0.001974</td>\n",
       "    </tr>\n",
       "  </tbody>\n",
       "</table>\n",
       "</div>"
      ],
      "text/plain": [
       "                       Date       Open       High        Low      Close  \\\n",
       "0 2017-01-03 00:00:00-05:00  29.480000  29.610001  29.420000  29.610001   \n",
       "1 2017-01-04 00:00:00-05:00  30.209999  30.670000  30.209999  30.660000   \n",
       "2 2017-01-05 00:00:00-05:00  30.620001  30.780001  30.580000  30.660000   \n",
       "3 2017-01-06 00:00:00-05:00  30.350000  30.580000  30.240000  30.469999   \n",
       "4 2017-01-09 00:00:00-05:00  30.370001  30.500000  30.299999  30.430000   \n",
       "\n",
       "   Adj Close  Volume  Log_return  \n",
       "0  25.722599  864500    0.004400  \n",
       "1  26.634747  705500    0.014786  \n",
       "2  26.634747  482600    0.001305  \n",
       "3  26.469692  493600    0.003946  \n",
       "4  26.434942  585200    0.001974  "
      ]
     },
     "execution_count": 5,
     "metadata": {},
     "output_type": "execute_result"
    }
   ],
   "source": [
    "#add a column called 'Log_return' which is the log of the price close over the price open\n",
    "hmc['Log_return'] = np.log(hmc['Close']/hmc['Open'])\n",
    "hmc.reset_index(inplace = True)\n",
    "hmc.head()"
   ]
  },
  {
   "cell_type": "markdown",
   "id": "4e551218",
   "metadata": {},
   "source": [
    "<h3>Toyota Motors(TM)</h3>"
   ]
  },
  {
   "cell_type": "code",
   "execution_count": 6,
   "id": "06d14284",
   "metadata": {
    "scrolled": false
   },
   "outputs": [
    {
     "name": "stdout",
     "output_type": "stream",
     "text": [
      "[*********************100%***********************]  1 of 1 completed\n"
     ]
    },
    {
     "data": {
      "text/html": [
       "<div>\n",
       "<style scoped>\n",
       "    .dataframe tbody tr th:only-of-type {\n",
       "        vertical-align: middle;\n",
       "    }\n",
       "\n",
       "    .dataframe tbody tr th {\n",
       "        vertical-align: top;\n",
       "    }\n",
       "\n",
       "    .dataframe thead th {\n",
       "        text-align: right;\n",
       "    }\n",
       "</style>\n",
       "<table border=\"1\" class=\"dataframe\">\n",
       "  <thead>\n",
       "    <tr style=\"text-align: right;\">\n",
       "      <th></th>\n",
       "      <th>Open</th>\n",
       "      <th>High</th>\n",
       "      <th>Low</th>\n",
       "      <th>Close</th>\n",
       "      <th>Adj Close</th>\n",
       "      <th>Volume</th>\n",
       "    </tr>\n",
       "    <tr>\n",
       "      <th>Date</th>\n",
       "      <th></th>\n",
       "      <th></th>\n",
       "      <th></th>\n",
       "      <th></th>\n",
       "      <th></th>\n",
       "      <th></th>\n",
       "    </tr>\n",
       "  </thead>\n",
       "  <tbody>\n",
       "    <tr>\n",
       "      <th>2017-01-03 00:00:00-05:00</th>\n",
       "      <td>118.169998</td>\n",
       "      <td>118.669998</td>\n",
       "      <td>117.830002</td>\n",
       "      <td>118.550003</td>\n",
       "      <td>118.550003</td>\n",
       "      <td>204000</td>\n",
       "    </tr>\n",
       "    <tr>\n",
       "      <th>2017-01-04 00:00:00-05:00</th>\n",
       "      <td>120.269997</td>\n",
       "      <td>121.290001</td>\n",
       "      <td>120.139999</td>\n",
       "      <td>121.190002</td>\n",
       "      <td>121.190002</td>\n",
       "      <td>250600</td>\n",
       "    </tr>\n",
       "    <tr>\n",
       "      <th>2017-01-05 00:00:00-05:00</th>\n",
       "      <td>121.190002</td>\n",
       "      <td>121.389999</td>\n",
       "      <td>120.320000</td>\n",
       "      <td>120.440002</td>\n",
       "      <td>120.440002</td>\n",
       "      <td>525900</td>\n",
       "    </tr>\n",
       "    <tr>\n",
       "      <th>2017-01-06 00:00:00-05:00</th>\n",
       "      <td>119.839996</td>\n",
       "      <td>120.230003</td>\n",
       "      <td>119.410004</td>\n",
       "      <td>120.129997</td>\n",
       "      <td>120.129997</td>\n",
       "      <td>171600</td>\n",
       "    </tr>\n",
       "    <tr>\n",
       "      <th>2017-01-09 00:00:00-05:00</th>\n",
       "      <td>119.480003</td>\n",
       "      <td>119.959999</td>\n",
       "      <td>119.470001</td>\n",
       "      <td>119.739998</td>\n",
       "      <td>119.739998</td>\n",
       "      <td>135800</td>\n",
       "    </tr>\n",
       "  </tbody>\n",
       "</table>\n",
       "</div>"
      ],
      "text/plain": [
       "                                 Open        High         Low       Close  \\\n",
       "Date                                                                        \n",
       "2017-01-03 00:00:00-05:00  118.169998  118.669998  117.830002  118.550003   \n",
       "2017-01-04 00:00:00-05:00  120.269997  121.290001  120.139999  121.190002   \n",
       "2017-01-05 00:00:00-05:00  121.190002  121.389999  120.320000  120.440002   \n",
       "2017-01-06 00:00:00-05:00  119.839996  120.230003  119.410004  120.129997   \n",
       "2017-01-09 00:00:00-05:00  119.480003  119.959999  119.470001  119.739998   \n",
       "\n",
       "                            Adj Close  Volume  \n",
       "Date                                           \n",
       "2017-01-03 00:00:00-05:00  118.550003  204000  \n",
       "2017-01-04 00:00:00-05:00  121.190002  250600  \n",
       "2017-01-05 00:00:00-05:00  120.440002  525900  \n",
       "2017-01-06 00:00:00-05:00  120.129997  171600  \n",
       "2017-01-09 00:00:00-05:00  119.739998  135800  "
      ]
     },
     "execution_count": 6,
     "metadata": {},
     "output_type": "execute_result"
    }
   ],
   "source": [
    "#same passages of HMC dataset done here\n",
    "tm = yf.download('TM', start_date, end_date)\n",
    "tm.head()"
   ]
  },
  {
   "cell_type": "code",
   "execution_count": 7,
   "id": "2b38da9b",
   "metadata": {
    "scrolled": true
   },
   "outputs": [
    {
     "data": {
      "text/html": [
       "<div>\n",
       "<style scoped>\n",
       "    .dataframe tbody tr th:only-of-type {\n",
       "        vertical-align: middle;\n",
       "    }\n",
       "\n",
       "    .dataframe tbody tr th {\n",
       "        vertical-align: top;\n",
       "    }\n",
       "\n",
       "    .dataframe thead th {\n",
       "        text-align: right;\n",
       "    }\n",
       "</style>\n",
       "<table border=\"1\" class=\"dataframe\">\n",
       "  <thead>\n",
       "    <tr style=\"text-align: right;\">\n",
       "      <th></th>\n",
       "      <th>Date</th>\n",
       "      <th>Open</th>\n",
       "      <th>High</th>\n",
       "      <th>Low</th>\n",
       "      <th>Close</th>\n",
       "      <th>Adj Close</th>\n",
       "      <th>Volume</th>\n",
       "      <th>Log_return</th>\n",
       "    </tr>\n",
       "  </thead>\n",
       "  <tbody>\n",
       "    <tr>\n",
       "      <th>0</th>\n",
       "      <td>2017-01-03 00:00:00-05:00</td>\n",
       "      <td>118.169998</td>\n",
       "      <td>118.669998</td>\n",
       "      <td>117.830002</td>\n",
       "      <td>118.550003</td>\n",
       "      <td>118.550003</td>\n",
       "      <td>204000</td>\n",
       "      <td>0.003211</td>\n",
       "    </tr>\n",
       "    <tr>\n",
       "      <th>1</th>\n",
       "      <td>2017-01-04 00:00:00-05:00</td>\n",
       "      <td>120.269997</td>\n",
       "      <td>121.290001</td>\n",
       "      <td>120.139999</td>\n",
       "      <td>121.190002</td>\n",
       "      <td>121.190002</td>\n",
       "      <td>250600</td>\n",
       "      <td>0.007620</td>\n",
       "    </tr>\n",
       "    <tr>\n",
       "      <th>2</th>\n",
       "      <td>2017-01-05 00:00:00-05:00</td>\n",
       "      <td>121.190002</td>\n",
       "      <td>121.389999</td>\n",
       "      <td>120.320000</td>\n",
       "      <td>120.440002</td>\n",
       "      <td>120.440002</td>\n",
       "      <td>525900</td>\n",
       "      <td>-0.006208</td>\n",
       "    </tr>\n",
       "    <tr>\n",
       "      <th>3</th>\n",
       "      <td>2017-01-06 00:00:00-05:00</td>\n",
       "      <td>119.839996</td>\n",
       "      <td>120.230003</td>\n",
       "      <td>119.410004</td>\n",
       "      <td>120.129997</td>\n",
       "      <td>120.129997</td>\n",
       "      <td>171600</td>\n",
       "      <td>0.002417</td>\n",
       "    </tr>\n",
       "    <tr>\n",
       "      <th>4</th>\n",
       "      <td>2017-01-09 00:00:00-05:00</td>\n",
       "      <td>119.480003</td>\n",
       "      <td>119.959999</td>\n",
       "      <td>119.470001</td>\n",
       "      <td>119.739998</td>\n",
       "      <td>119.739998</td>\n",
       "      <td>135800</td>\n",
       "      <td>0.002174</td>\n",
       "    </tr>\n",
       "  </tbody>\n",
       "</table>\n",
       "</div>"
      ],
      "text/plain": [
       "                       Date        Open        High         Low       Close  \\\n",
       "0 2017-01-03 00:00:00-05:00  118.169998  118.669998  117.830002  118.550003   \n",
       "1 2017-01-04 00:00:00-05:00  120.269997  121.290001  120.139999  121.190002   \n",
       "2 2017-01-05 00:00:00-05:00  121.190002  121.389999  120.320000  120.440002   \n",
       "3 2017-01-06 00:00:00-05:00  119.839996  120.230003  119.410004  120.129997   \n",
       "4 2017-01-09 00:00:00-05:00  119.480003  119.959999  119.470001  119.739998   \n",
       "\n",
       "    Adj Close  Volume  Log_return  \n",
       "0  118.550003  204000    0.003211  \n",
       "1  121.190002  250600    0.007620  \n",
       "2  120.440002  525900   -0.006208  \n",
       "3  120.129997  171600    0.002417  \n",
       "4  119.739998  135800    0.002174  "
      ]
     },
     "execution_count": 7,
     "metadata": {},
     "output_type": "execute_result"
    }
   ],
   "source": [
    "#same passages of HMC dataset done here\n",
    "tm['Log_return'] = np.log(tm['Close']/tm['Open'])\n",
    "tm.reset_index(inplace = True)\n",
    "tm.head()"
   ]
  },
  {
   "cell_type": "markdown",
   "id": "16486712",
   "metadata": {},
   "source": [
    "<h3>Ferrari(RACE)</h3>"
   ]
  },
  {
   "cell_type": "code",
   "execution_count": 8,
   "id": "08c65d47",
   "metadata": {},
   "outputs": [
    {
     "name": "stdout",
     "output_type": "stream",
     "text": [
      "[*********************100%***********************]  1 of 1 completed\n"
     ]
    },
    {
     "data": {
      "text/html": [
       "<div>\n",
       "<style scoped>\n",
       "    .dataframe tbody tr th:only-of-type {\n",
       "        vertical-align: middle;\n",
       "    }\n",
       "\n",
       "    .dataframe tbody tr th {\n",
       "        vertical-align: top;\n",
       "    }\n",
       "\n",
       "    .dataframe thead th {\n",
       "        text-align: right;\n",
       "    }\n",
       "</style>\n",
       "<table border=\"1\" class=\"dataframe\">\n",
       "  <thead>\n",
       "    <tr style=\"text-align: right;\">\n",
       "      <th></th>\n",
       "      <th>Open</th>\n",
       "      <th>High</th>\n",
       "      <th>Low</th>\n",
       "      <th>Close</th>\n",
       "      <th>Adj Close</th>\n",
       "      <th>Volume</th>\n",
       "    </tr>\n",
       "    <tr>\n",
       "      <th>Date</th>\n",
       "      <th></th>\n",
       "      <th></th>\n",
       "      <th></th>\n",
       "      <th></th>\n",
       "      <th></th>\n",
       "      <th></th>\n",
       "    </tr>\n",
       "  </thead>\n",
       "  <tbody>\n",
       "    <tr>\n",
       "      <th>2017-01-03 00:00:00-05:00</th>\n",
       "      <td>59.160000</td>\n",
       "      <td>59.259998</td>\n",
       "      <td>58.349998</td>\n",
       "      <td>58.939999</td>\n",
       "      <td>55.978436</td>\n",
       "      <td>546700</td>\n",
       "    </tr>\n",
       "    <tr>\n",
       "      <th>2017-01-04 00:00:00-05:00</th>\n",
       "      <td>58.840000</td>\n",
       "      <td>59.480000</td>\n",
       "      <td>58.790001</td>\n",
       "      <td>59.410000</td>\n",
       "      <td>56.424824</td>\n",
       "      <td>373000</td>\n",
       "    </tr>\n",
       "    <tr>\n",
       "      <th>2017-01-05 00:00:00-05:00</th>\n",
       "      <td>59.439999</td>\n",
       "      <td>59.880001</td>\n",
       "      <td>59.341000</td>\n",
       "      <td>59.360001</td>\n",
       "      <td>56.377335</td>\n",
       "      <td>304800</td>\n",
       "    </tr>\n",
       "    <tr>\n",
       "      <th>2017-01-06 00:00:00-05:00</th>\n",
       "      <td>58.970001</td>\n",
       "      <td>59.160000</td>\n",
       "      <td>58.810001</td>\n",
       "      <td>58.939999</td>\n",
       "      <td>55.978436</td>\n",
       "      <td>280500</td>\n",
       "    </tr>\n",
       "    <tr>\n",
       "      <th>2017-01-09 00:00:00-05:00</th>\n",
       "      <td>57.770000</td>\n",
       "      <td>58.500000</td>\n",
       "      <td>57.560001</td>\n",
       "      <td>58.279999</td>\n",
       "      <td>55.351601</td>\n",
       "      <td>409300</td>\n",
       "    </tr>\n",
       "  </tbody>\n",
       "</table>\n",
       "</div>"
      ],
      "text/plain": [
       "                                Open       High        Low      Close  \\\n",
       "Date                                                                    \n",
       "2017-01-03 00:00:00-05:00  59.160000  59.259998  58.349998  58.939999   \n",
       "2017-01-04 00:00:00-05:00  58.840000  59.480000  58.790001  59.410000   \n",
       "2017-01-05 00:00:00-05:00  59.439999  59.880001  59.341000  59.360001   \n",
       "2017-01-06 00:00:00-05:00  58.970001  59.160000  58.810001  58.939999   \n",
       "2017-01-09 00:00:00-05:00  57.770000  58.500000  57.560001  58.279999   \n",
       "\n",
       "                           Adj Close  Volume  \n",
       "Date                                          \n",
       "2017-01-03 00:00:00-05:00  55.978436  546700  \n",
       "2017-01-04 00:00:00-05:00  56.424824  373000  \n",
       "2017-01-05 00:00:00-05:00  56.377335  304800  \n",
       "2017-01-06 00:00:00-05:00  55.978436  280500  \n",
       "2017-01-09 00:00:00-05:00  55.351601  409300  "
      ]
     },
     "execution_count": 8,
     "metadata": {},
     "output_type": "execute_result"
    }
   ],
   "source": [
    "#same passages of HMC dataset done here\n",
    "race = yf.download('RACE', start_date, end_date)\n",
    "race.head()"
   ]
  },
  {
   "cell_type": "code",
   "execution_count": 9,
   "id": "61c2f0c4",
   "metadata": {
    "scrolled": true
   },
   "outputs": [
    {
     "data": {
      "text/html": [
       "<div>\n",
       "<style scoped>\n",
       "    .dataframe tbody tr th:only-of-type {\n",
       "        vertical-align: middle;\n",
       "    }\n",
       "\n",
       "    .dataframe tbody tr th {\n",
       "        vertical-align: top;\n",
       "    }\n",
       "\n",
       "    .dataframe thead th {\n",
       "        text-align: right;\n",
       "    }\n",
       "</style>\n",
       "<table border=\"1\" class=\"dataframe\">\n",
       "  <thead>\n",
       "    <tr style=\"text-align: right;\">\n",
       "      <th></th>\n",
       "      <th>Date</th>\n",
       "      <th>Open</th>\n",
       "      <th>High</th>\n",
       "      <th>Low</th>\n",
       "      <th>Close</th>\n",
       "      <th>Adj Close</th>\n",
       "      <th>Volume</th>\n",
       "      <th>Log_return</th>\n",
       "    </tr>\n",
       "  </thead>\n",
       "  <tbody>\n",
       "    <tr>\n",
       "      <th>0</th>\n",
       "      <td>2017-01-03 00:00:00-05:00</td>\n",
       "      <td>59.160000</td>\n",
       "      <td>59.259998</td>\n",
       "      <td>58.349998</td>\n",
       "      <td>58.939999</td>\n",
       "      <td>55.978436</td>\n",
       "      <td>546700</td>\n",
       "      <td>-0.003726</td>\n",
       "    </tr>\n",
       "    <tr>\n",
       "      <th>1</th>\n",
       "      <td>2017-01-04 00:00:00-05:00</td>\n",
       "      <td>58.840000</td>\n",
       "      <td>59.480000</td>\n",
       "      <td>58.790001</td>\n",
       "      <td>59.410000</td>\n",
       "      <td>56.424824</td>\n",
       "      <td>373000</td>\n",
       "      <td>0.009641</td>\n",
       "    </tr>\n",
       "    <tr>\n",
       "      <th>2</th>\n",
       "      <td>2017-01-05 00:00:00-05:00</td>\n",
       "      <td>59.439999</td>\n",
       "      <td>59.880001</td>\n",
       "      <td>59.341000</td>\n",
       "      <td>59.360001</td>\n",
       "      <td>56.377335</td>\n",
       "      <td>304800</td>\n",
       "      <td>-0.001347</td>\n",
       "    </tr>\n",
       "    <tr>\n",
       "      <th>3</th>\n",
       "      <td>2017-01-06 00:00:00-05:00</td>\n",
       "      <td>58.970001</td>\n",
       "      <td>59.160000</td>\n",
       "      <td>58.810001</td>\n",
       "      <td>58.939999</td>\n",
       "      <td>55.978436</td>\n",
       "      <td>280500</td>\n",
       "      <td>-0.000509</td>\n",
       "    </tr>\n",
       "    <tr>\n",
       "      <th>4</th>\n",
       "      <td>2017-01-09 00:00:00-05:00</td>\n",
       "      <td>57.770000</td>\n",
       "      <td>58.500000</td>\n",
       "      <td>57.560001</td>\n",
       "      <td>58.279999</td>\n",
       "      <td>55.351601</td>\n",
       "      <td>409300</td>\n",
       "      <td>0.008789</td>\n",
       "    </tr>\n",
       "  </tbody>\n",
       "</table>\n",
       "</div>"
      ],
      "text/plain": [
       "                       Date       Open       High        Low      Close  \\\n",
       "0 2017-01-03 00:00:00-05:00  59.160000  59.259998  58.349998  58.939999   \n",
       "1 2017-01-04 00:00:00-05:00  58.840000  59.480000  58.790001  59.410000   \n",
       "2 2017-01-05 00:00:00-05:00  59.439999  59.880001  59.341000  59.360001   \n",
       "3 2017-01-06 00:00:00-05:00  58.970001  59.160000  58.810001  58.939999   \n",
       "4 2017-01-09 00:00:00-05:00  57.770000  58.500000  57.560001  58.279999   \n",
       "\n",
       "   Adj Close  Volume  Log_return  \n",
       "0  55.978436  546700   -0.003726  \n",
       "1  56.424824  373000    0.009641  \n",
       "2  56.377335  304800   -0.001347  \n",
       "3  55.978436  280500   -0.000509  \n",
       "4  55.351601  409300    0.008789  "
      ]
     },
     "execution_count": 9,
     "metadata": {},
     "output_type": "execute_result"
    }
   ],
   "source": [
    "#same passages of HMC dataset done here\n",
    "race['Log_return'] = np.log(race['Close']/race['Open'])\n",
    "race.reset_index(inplace = True)\n",
    "race.head()"
   ]
  },
  {
   "cell_type": "markdown",
   "id": "dbee5cd0",
   "metadata": {},
   "source": [
    "<h3>General Motors (GM)</h3>"
   ]
  },
  {
   "cell_type": "code",
   "execution_count": 10,
   "id": "67a4bd44",
   "metadata": {},
   "outputs": [
    {
     "name": "stdout",
     "output_type": "stream",
     "text": [
      "[*********************100%***********************]  1 of 1 completed\n"
     ]
    },
    {
     "data": {
      "text/html": [
       "<div>\n",
       "<style scoped>\n",
       "    .dataframe tbody tr th:only-of-type {\n",
       "        vertical-align: middle;\n",
       "    }\n",
       "\n",
       "    .dataframe tbody tr th {\n",
       "        vertical-align: top;\n",
       "    }\n",
       "\n",
       "    .dataframe thead th {\n",
       "        text-align: right;\n",
       "    }\n",
       "</style>\n",
       "<table border=\"1\" class=\"dataframe\">\n",
       "  <thead>\n",
       "    <tr style=\"text-align: right;\">\n",
       "      <th></th>\n",
       "      <th>Open</th>\n",
       "      <th>High</th>\n",
       "      <th>Low</th>\n",
       "      <th>Close</th>\n",
       "      <th>Adj Close</th>\n",
       "      <th>Volume</th>\n",
       "    </tr>\n",
       "    <tr>\n",
       "      <th>Date</th>\n",
       "      <th></th>\n",
       "      <th></th>\n",
       "      <th></th>\n",
       "      <th></th>\n",
       "      <th></th>\n",
       "      <th></th>\n",
       "    </tr>\n",
       "  </thead>\n",
       "  <tbody>\n",
       "    <tr>\n",
       "      <th>2017-01-03 00:00:00-05:00</th>\n",
       "      <td>34.980000</td>\n",
       "      <td>35.570000</td>\n",
       "      <td>34.840000</td>\n",
       "      <td>35.150002</td>\n",
       "      <td>30.369265</td>\n",
       "      <td>10904900</td>\n",
       "    </tr>\n",
       "    <tr>\n",
       "      <th>2017-01-04 00:00:00-05:00</th>\n",
       "      <td>35.599998</td>\n",
       "      <td>37.240002</td>\n",
       "      <td>35.470001</td>\n",
       "      <td>37.090000</td>\n",
       "      <td>32.045403</td>\n",
       "      <td>23388500</td>\n",
       "    </tr>\n",
       "    <tr>\n",
       "      <th>2017-01-05 00:00:00-05:00</th>\n",
       "      <td>37.009998</td>\n",
       "      <td>37.049999</td>\n",
       "      <td>36.070000</td>\n",
       "      <td>36.389999</td>\n",
       "      <td>31.440619</td>\n",
       "      <td>15636700</td>\n",
       "    </tr>\n",
       "    <tr>\n",
       "      <th>2017-01-06 00:00:00-05:00</th>\n",
       "      <td>36.410000</td>\n",
       "      <td>36.549999</td>\n",
       "      <td>35.930000</td>\n",
       "      <td>35.990002</td>\n",
       "      <td>31.095022</td>\n",
       "      <td>13240100</td>\n",
       "    </tr>\n",
       "    <tr>\n",
       "      <th>2017-01-09 00:00:00-05:00</th>\n",
       "      <td>36.119999</td>\n",
       "      <td>36.529999</td>\n",
       "      <td>35.860001</td>\n",
       "      <td>36.009998</td>\n",
       "      <td>31.112295</td>\n",
       "      <td>15204500</td>\n",
       "    </tr>\n",
       "  </tbody>\n",
       "</table>\n",
       "</div>"
      ],
      "text/plain": [
       "                                Open       High        Low      Close  \\\n",
       "Date                                                                    \n",
       "2017-01-03 00:00:00-05:00  34.980000  35.570000  34.840000  35.150002   \n",
       "2017-01-04 00:00:00-05:00  35.599998  37.240002  35.470001  37.090000   \n",
       "2017-01-05 00:00:00-05:00  37.009998  37.049999  36.070000  36.389999   \n",
       "2017-01-06 00:00:00-05:00  36.410000  36.549999  35.930000  35.990002   \n",
       "2017-01-09 00:00:00-05:00  36.119999  36.529999  35.860001  36.009998   \n",
       "\n",
       "                           Adj Close    Volume  \n",
       "Date                                            \n",
       "2017-01-03 00:00:00-05:00  30.369265  10904900  \n",
       "2017-01-04 00:00:00-05:00  32.045403  23388500  \n",
       "2017-01-05 00:00:00-05:00  31.440619  15636700  \n",
       "2017-01-06 00:00:00-05:00  31.095022  13240100  \n",
       "2017-01-09 00:00:00-05:00  31.112295  15204500  "
      ]
     },
     "execution_count": 10,
     "metadata": {},
     "output_type": "execute_result"
    }
   ],
   "source": [
    "#same passages of HMC dataset done here\n",
    "gm = yf.download('GM', start_date, end_date)\n",
    "gm.head()"
   ]
  },
  {
   "cell_type": "code",
   "execution_count": 11,
   "id": "91d8059f",
   "metadata": {
    "scrolled": true
   },
   "outputs": [
    {
     "data": {
      "text/html": [
       "<div>\n",
       "<style scoped>\n",
       "    .dataframe tbody tr th:only-of-type {\n",
       "        vertical-align: middle;\n",
       "    }\n",
       "\n",
       "    .dataframe tbody tr th {\n",
       "        vertical-align: top;\n",
       "    }\n",
       "\n",
       "    .dataframe thead th {\n",
       "        text-align: right;\n",
       "    }\n",
       "</style>\n",
       "<table border=\"1\" class=\"dataframe\">\n",
       "  <thead>\n",
       "    <tr style=\"text-align: right;\">\n",
       "      <th></th>\n",
       "      <th>Date</th>\n",
       "      <th>Open</th>\n",
       "      <th>High</th>\n",
       "      <th>Low</th>\n",
       "      <th>Close</th>\n",
       "      <th>Adj Close</th>\n",
       "      <th>Volume</th>\n",
       "      <th>Log_return</th>\n",
       "    </tr>\n",
       "  </thead>\n",
       "  <tbody>\n",
       "    <tr>\n",
       "      <th>0</th>\n",
       "      <td>2017-01-03 00:00:00-05:00</td>\n",
       "      <td>34.980000</td>\n",
       "      <td>35.570000</td>\n",
       "      <td>34.840000</td>\n",
       "      <td>35.150002</td>\n",
       "      <td>30.369265</td>\n",
       "      <td>10904900</td>\n",
       "      <td>0.004848</td>\n",
       "    </tr>\n",
       "    <tr>\n",
       "      <th>1</th>\n",
       "      <td>2017-01-04 00:00:00-05:00</td>\n",
       "      <td>35.599998</td>\n",
       "      <td>37.240002</td>\n",
       "      <td>35.470001</td>\n",
       "      <td>37.090000</td>\n",
       "      <td>32.045403</td>\n",
       "      <td>23388500</td>\n",
       "      <td>0.041002</td>\n",
       "    </tr>\n",
       "    <tr>\n",
       "      <th>2</th>\n",
       "      <td>2017-01-05 00:00:00-05:00</td>\n",
       "      <td>37.009998</td>\n",
       "      <td>37.049999</td>\n",
       "      <td>36.070000</td>\n",
       "      <td>36.389999</td>\n",
       "      <td>31.440619</td>\n",
       "      <td>15636700</td>\n",
       "      <td>-0.016894</td>\n",
       "    </tr>\n",
       "    <tr>\n",
       "      <th>3</th>\n",
       "      <td>2017-01-06 00:00:00-05:00</td>\n",
       "      <td>36.410000</td>\n",
       "      <td>36.549999</td>\n",
       "      <td>35.930000</td>\n",
       "      <td>35.990002</td>\n",
       "      <td>31.095022</td>\n",
       "      <td>13240100</td>\n",
       "      <td>-0.011602</td>\n",
       "    </tr>\n",
       "    <tr>\n",
       "      <th>4</th>\n",
       "      <td>2017-01-09 00:00:00-05:00</td>\n",
       "      <td>36.119999</td>\n",
       "      <td>36.529999</td>\n",
       "      <td>35.860001</td>\n",
       "      <td>36.009998</td>\n",
       "      <td>31.112295</td>\n",
       "      <td>15204500</td>\n",
       "      <td>-0.003050</td>\n",
       "    </tr>\n",
       "  </tbody>\n",
       "</table>\n",
       "</div>"
      ],
      "text/plain": [
       "                       Date       Open       High        Low      Close  \\\n",
       "0 2017-01-03 00:00:00-05:00  34.980000  35.570000  34.840000  35.150002   \n",
       "1 2017-01-04 00:00:00-05:00  35.599998  37.240002  35.470001  37.090000   \n",
       "2 2017-01-05 00:00:00-05:00  37.009998  37.049999  36.070000  36.389999   \n",
       "3 2017-01-06 00:00:00-05:00  36.410000  36.549999  35.930000  35.990002   \n",
       "4 2017-01-09 00:00:00-05:00  36.119999  36.529999  35.860001  36.009998   \n",
       "\n",
       "   Adj Close    Volume  Log_return  \n",
       "0  30.369265  10904900    0.004848  \n",
       "1  32.045403  23388500    0.041002  \n",
       "2  31.440619  15636700   -0.016894  \n",
       "3  31.095022  13240100   -0.011602  \n",
       "4  31.112295  15204500   -0.003050  "
      ]
     },
     "execution_count": 11,
     "metadata": {},
     "output_type": "execute_result"
    }
   ],
   "source": [
    "#same passages of HMC dataset done here\n",
    "gm['Log_return'] = np.log(gm['Close']/gm['Open'])\n",
    "gm.reset_index(inplace = True)\n",
    "gm.head()"
   ]
  },
  {
   "cell_type": "markdown",
   "id": "943c13c8",
   "metadata": {},
   "source": [
    "<h3>Ford Motors(F)</h3>"
   ]
  },
  {
   "cell_type": "code",
   "execution_count": 12,
   "id": "93a8c788",
   "metadata": {},
   "outputs": [
    {
     "name": "stdout",
     "output_type": "stream",
     "text": [
      "[*********************100%***********************]  1 of 1 completed\n"
     ]
    },
    {
     "data": {
      "text/html": [
       "<div>\n",
       "<style scoped>\n",
       "    .dataframe tbody tr th:only-of-type {\n",
       "        vertical-align: middle;\n",
       "    }\n",
       "\n",
       "    .dataframe tbody tr th {\n",
       "        vertical-align: top;\n",
       "    }\n",
       "\n",
       "    .dataframe thead th {\n",
       "        text-align: right;\n",
       "    }\n",
       "</style>\n",
       "<table border=\"1\" class=\"dataframe\">\n",
       "  <thead>\n",
       "    <tr style=\"text-align: right;\">\n",
       "      <th></th>\n",
       "      <th>Open</th>\n",
       "      <th>High</th>\n",
       "      <th>Low</th>\n",
       "      <th>Close</th>\n",
       "      <th>Adj Close</th>\n",
       "      <th>Volume</th>\n",
       "    </tr>\n",
       "    <tr>\n",
       "      <th>Date</th>\n",
       "      <th></th>\n",
       "      <th></th>\n",
       "      <th></th>\n",
       "      <th></th>\n",
       "      <th></th>\n",
       "      <th></th>\n",
       "    </tr>\n",
       "  </thead>\n",
       "  <tbody>\n",
       "    <tr>\n",
       "      <th>2017-01-03 00:00:00-05:00</th>\n",
       "      <td>12.20</td>\n",
       "      <td>12.60</td>\n",
       "      <td>12.13</td>\n",
       "      <td>12.59</td>\n",
       "      <td>8.943367</td>\n",
       "      <td>40510800</td>\n",
       "    </tr>\n",
       "    <tr>\n",
       "      <th>2017-01-04 00:00:00-05:00</th>\n",
       "      <td>12.77</td>\n",
       "      <td>13.27</td>\n",
       "      <td>12.74</td>\n",
       "      <td>13.17</td>\n",
       "      <td>9.355372</td>\n",
       "      <td>77638100</td>\n",
       "    </tr>\n",
       "    <tr>\n",
       "      <th>2017-01-05 00:00:00-05:00</th>\n",
       "      <td>13.21</td>\n",
       "      <td>13.22</td>\n",
       "      <td>12.63</td>\n",
       "      <td>12.77</td>\n",
       "      <td>9.071233</td>\n",
       "      <td>75628400</td>\n",
       "    </tr>\n",
       "    <tr>\n",
       "      <th>2017-01-06 00:00:00-05:00</th>\n",
       "      <td>12.80</td>\n",
       "      <td>12.84</td>\n",
       "      <td>12.64</td>\n",
       "      <td>12.76</td>\n",
       "      <td>9.064129</td>\n",
       "      <td>40315900</td>\n",
       "    </tr>\n",
       "    <tr>\n",
       "      <th>2017-01-09 00:00:00-05:00</th>\n",
       "      <td>12.79</td>\n",
       "      <td>12.86</td>\n",
       "      <td>12.63</td>\n",
       "      <td>12.63</td>\n",
       "      <td>8.971783</td>\n",
       "      <td>39438400</td>\n",
       "    </tr>\n",
       "  </tbody>\n",
       "</table>\n",
       "</div>"
      ],
      "text/plain": [
       "                            Open   High    Low  Close  Adj Close    Volume\n",
       "Date                                                                      \n",
       "2017-01-03 00:00:00-05:00  12.20  12.60  12.13  12.59   8.943367  40510800\n",
       "2017-01-04 00:00:00-05:00  12.77  13.27  12.74  13.17   9.355372  77638100\n",
       "2017-01-05 00:00:00-05:00  13.21  13.22  12.63  12.77   9.071233  75628400\n",
       "2017-01-06 00:00:00-05:00  12.80  12.84  12.64  12.76   9.064129  40315900\n",
       "2017-01-09 00:00:00-05:00  12.79  12.86  12.63  12.63   8.971783  39438400"
      ]
     },
     "execution_count": 12,
     "metadata": {},
     "output_type": "execute_result"
    }
   ],
   "source": [
    "#same passages of HMC dataset done here\n",
    "f = yf.download('F', start_date, end_date)\n",
    "f.head()"
   ]
  },
  {
   "cell_type": "code",
   "execution_count": 13,
   "id": "f63e05ae",
   "metadata": {
    "scrolled": true
   },
   "outputs": [
    {
     "data": {
      "text/html": [
       "<div>\n",
       "<style scoped>\n",
       "    .dataframe tbody tr th:only-of-type {\n",
       "        vertical-align: middle;\n",
       "    }\n",
       "\n",
       "    .dataframe tbody tr th {\n",
       "        vertical-align: top;\n",
       "    }\n",
       "\n",
       "    .dataframe thead th {\n",
       "        text-align: right;\n",
       "    }\n",
       "</style>\n",
       "<table border=\"1\" class=\"dataframe\">\n",
       "  <thead>\n",
       "    <tr style=\"text-align: right;\">\n",
       "      <th></th>\n",
       "      <th>Date</th>\n",
       "      <th>Open</th>\n",
       "      <th>High</th>\n",
       "      <th>Low</th>\n",
       "      <th>Close</th>\n",
       "      <th>Adj Close</th>\n",
       "      <th>Volume</th>\n",
       "      <th>Log_return</th>\n",
       "    </tr>\n",
       "  </thead>\n",
       "  <tbody>\n",
       "    <tr>\n",
       "      <th>0</th>\n",
       "      <td>2017-01-03 00:00:00-05:00</td>\n",
       "      <td>12.20</td>\n",
       "      <td>12.60</td>\n",
       "      <td>12.13</td>\n",
       "      <td>12.59</td>\n",
       "      <td>8.943367</td>\n",
       "      <td>40510800</td>\n",
       "      <td>0.031467</td>\n",
       "    </tr>\n",
       "    <tr>\n",
       "      <th>1</th>\n",
       "      <td>2017-01-04 00:00:00-05:00</td>\n",
       "      <td>12.77</td>\n",
       "      <td>13.27</td>\n",
       "      <td>12.74</td>\n",
       "      <td>13.17</td>\n",
       "      <td>9.355372</td>\n",
       "      <td>77638100</td>\n",
       "      <td>0.030843</td>\n",
       "    </tr>\n",
       "    <tr>\n",
       "      <th>2</th>\n",
       "      <td>2017-01-05 00:00:00-05:00</td>\n",
       "      <td>13.21</td>\n",
       "      <td>13.22</td>\n",
       "      <td>12.63</td>\n",
       "      <td>12.77</td>\n",
       "      <td>9.071233</td>\n",
       "      <td>75628400</td>\n",
       "      <td>-0.033875</td>\n",
       "    </tr>\n",
       "    <tr>\n",
       "      <th>3</th>\n",
       "      <td>2017-01-06 00:00:00-05:00</td>\n",
       "      <td>12.80</td>\n",
       "      <td>12.84</td>\n",
       "      <td>12.64</td>\n",
       "      <td>12.76</td>\n",
       "      <td>9.064129</td>\n",
       "      <td>40315900</td>\n",
       "      <td>-0.003130</td>\n",
       "    </tr>\n",
       "    <tr>\n",
       "      <th>4</th>\n",
       "      <td>2017-01-09 00:00:00-05:00</td>\n",
       "      <td>12.79</td>\n",
       "      <td>12.86</td>\n",
       "      <td>12.63</td>\n",
       "      <td>12.63</td>\n",
       "      <td>8.971783</td>\n",
       "      <td>39438400</td>\n",
       "      <td>-0.012589</td>\n",
       "    </tr>\n",
       "  </tbody>\n",
       "</table>\n",
       "</div>"
      ],
      "text/plain": [
       "                       Date   Open   High    Low  Close  Adj Close    Volume  \\\n",
       "0 2017-01-03 00:00:00-05:00  12.20  12.60  12.13  12.59   8.943367  40510800   \n",
       "1 2017-01-04 00:00:00-05:00  12.77  13.27  12.74  13.17   9.355372  77638100   \n",
       "2 2017-01-05 00:00:00-05:00  13.21  13.22  12.63  12.77   9.071233  75628400   \n",
       "3 2017-01-06 00:00:00-05:00  12.80  12.84  12.64  12.76   9.064129  40315900   \n",
       "4 2017-01-09 00:00:00-05:00  12.79  12.86  12.63  12.63   8.971783  39438400   \n",
       "\n",
       "   Log_return  \n",
       "0    0.031467  \n",
       "1    0.030843  \n",
       "2   -0.033875  \n",
       "3   -0.003130  \n",
       "4   -0.012589  "
      ]
     },
     "execution_count": 13,
     "metadata": {},
     "output_type": "execute_result"
    }
   ],
   "source": [
    "#same passages of HMC dataset done here\n",
    "f['Log_return'] = np.log(f['Close']/f['Open'])\n",
    "f.reset_index(inplace = True)\n",
    "f.head()"
   ]
  },
  {
   "cell_type": "markdown",
   "id": "f018470c",
   "metadata": {},
   "source": [
    "<h1 style=\"color:red;\">Functions</h1>"
   ]
  },
  {
   "cell_type": "markdown",
   "id": "58d6bd51",
   "metadata": {},
   "source": [
    "<h2>This section contains all the methods used to write the report and that animates the Dashboard in the next section.</h2>\n",
    "<h2> All the methods will be called by the Dashboard</h2>"
   ]
  },
  {
   "cell_type": "markdown",
   "id": "e4803617",
   "metadata": {},
   "source": [
    "<h3>Mean and Standard Deviation Log Returns</h3>"
   ]
  },
  {
   "cell_type": "code",
   "execution_count": 14,
   "id": "94c15da4",
   "metadata": {},
   "outputs": [
    {
     "name": "stdout",
     "output_type": "stream",
     "text": [
      "------------------------------\n",
      "HMC:\n",
      "mean   -0.000436\n",
      "std     0.007819\n",
      "Name: Log_return, dtype: float64\n",
      "------------------------------\n",
      "TM:\n",
      "mean   -0.000441\n",
      "std     0.007016\n",
      "Name: Log_return, dtype: float64\n",
      "------------------------------\n",
      "RACE:\n",
      "mean    0.000022\n",
      "std     0.012751\n",
      "Name: Log_return, dtype: float64\n",
      "------------------------------\n",
      "GM:\n",
      "mean   -0.000860\n",
      "std     0.018137\n",
      "Name: Log_return, dtype: float64\n",
      "------------------------------\n",
      "F:\n",
      "mean   -0.001121\n",
      "std     0.018446\n",
      "Name: Log_return, dtype: float64\n",
      "------------------------------\n"
     ]
    }
   ],
   "source": [
    "#calculat mean and standard deviation of the Log_return column for each of the 5 stocks\n",
    "print('-'*30)\n",
    "print(\"HMC:\")\n",
    "stats = hmc['Log_return'].agg(['mean', 'std'])\n",
    "print(stats)\n",
    "print('-'*30)\n",
    "print(\"TM:\")\n",
    "stats = tm['Log_return'].agg(['mean', 'std'])\n",
    "print(stats)\n",
    "print('-'*30)\n",
    "print(\"RACE:\")\n",
    "stats = race['Log_return'].agg(['mean', 'std'])\n",
    "print(stats)\n",
    "print('-'*30)\n",
    "print(\"GM:\")\n",
    "stats = gm['Log_return'].agg(['mean', 'std'])\n",
    "print(stats)\n",
    "print('-'*30)\n",
    "print(\"F:\")\n",
    "stats = f['Log_return'].agg(['mean', 'std'])\n",
    "print(stats)\n",
    "print('-'*30)"
   ]
  },
  {
   "cell_type": "markdown",
   "id": "2a62f4ba",
   "metadata": {},
   "source": [
    "<h3>Confidence Intervals</h3>"
   ]
  },
  {
   "cell_type": "code",
   "execution_count": 15,
   "id": "39b006d5",
   "metadata": {},
   "outputs": [],
   "source": [
    "import math\n",
    "import statistics\n",
    "from scipy.stats import norm\n",
    "\n",
    "def create_interval_mean(alpha, dataset, Type):\n",
    "    #this function receives an alpha, a dataset of a stock and a Type of interval (two sided vs one sided up or down)\n",
    "    #and gives back the confidence interval for the mean of a particular stock\n",
    "    sample_mean = dataset.mean()\n",
    "    percentile='' #it refers to alpha percentile\n",
    "    n = len(dataset)\n",
    "    \n",
    "    #3 cases must be analyzed, because the computatation of the alpha percentile differs\n",
    "    \n",
    "    if Type == 'Two sided':\n",
    "        percentile = (100 - alpha/2)/100 \n",
    "        little_t = norm.ppf(percentile) #alpha percentile; \n",
    "        #theoretically we should have used the t-student distribution, but our n is very big (over 1000 data)\n",
    "        #so using a normal distribution, the computation will be more accurate\n",
    "        s = math.sqrt(statistics.variance(dataset)) #standard deviation estimation\n",
    "        \n",
    "        return (round(sample_mean - little_t*s/math.sqrt(n), 10), round(sample_mean + little_t*s/math.sqrt(n),10)) #confidence interval\n",
    "    \n",
    "    if Type == 'Lower one sided':\n",
    "        #in this case we want an upper bound for the mean\n",
    "        percentile = (100 - alpha)/100\n",
    "        little_t = norm.ppf(percentile)\n",
    "        s = math.sqrt(statistics.variance(dataset))\n",
    "        return ('-∞', round(sample_mean + little_t*s/math.sqrt(n),10))\n",
    "    \n",
    "    if Type == 'Upper one sided':\n",
    "        #in this case we want a lower bound for the mean\n",
    "        percentile = alpha/100\n",
    "        little_t = norm.ppf(percentile)\n",
    "        s = math.sqrt(statistics.variance(dataset))\n",
    "        #print(f'little t: {little_t}')\n",
    "        return (round(sample_mean + little_t*s/math.sqrt(n), 10), '+∞')\n",
    "    \n",
    "    return ('','') #we will never be here\n",
    "    "
   ]
  },
  {
   "cell_type": "code",
   "execution_count": 16,
   "id": "d17c297e",
   "metadata": {},
   "outputs": [],
   "source": [
    "from scipy.stats import chi2\n",
    "\n",
    "#this function receives an alpha, a dataset of a stock and a Type of interval (two sided vs one sided up or down)\n",
    "#and gives back the confidence interval for the variance of a particular stock\n",
    "    \n",
    "def create_interval_variance(alpha, dataset, Type):\n",
    "    n = len(dataset)\n",
    "    df=n-1 #degree of freedom\n",
    "    s_squared = statistics.variance(dataset) #estimation sample variance\n",
    "    \n",
    "    if Type == 'Two sided':\n",
    "        percentile_low = (alpha/2)/100\n",
    "        percentile_high = (100 - alpha/2)/100\n",
    "        p_lower = chi2.ppf(percentile_low, df) \n",
    "        p_higher = chi2.ppf(percentile_high, df)\n",
    "        return (round(df*s_squared/p_higher, 10), round(df*s_squared/p_lower, 10)) #confidence interval\n",
    "    \n",
    "    if Type == 'Lower one sided':\n",
    "        #in this case we want an upper bound for the variance\n",
    "        percentile_high = (100 - alpha)/100\n",
    "        p_higher = chi2.ppf(percentile_high, df)\n",
    "        return ('-∞', round(df*s_squared/p_higher, 10)) #confidence interval\n",
    "    \n",
    "    if Type == 'Upper one sided':\n",
    "        #in this case we want a lower bound for the variance\n",
    "        percentile_low = alpha/100\n",
    "        p_lower = chi2.ppf(percentile_low, df)\n",
    "        return (round(df*s_squared/p_lower, 10), '+∞')\n",
    "    \n",
    "    return ('','') #we will never be here"
   ]
  },
  {
   "cell_type": "code",
   "execution_count": 17,
   "id": "6c5c30fc",
   "metadata": {},
   "outputs": [],
   "source": [
    "import math\n",
    "import statistics\n",
    "from scipy.stats import t\n",
    "from scipy.stats import chi2\n",
    "\n",
    "#this function calls in a proper manner the create_interval_mean(alpha, dataset, Type) and \n",
    "#create_interval_variance(alpha, dataset, Type) functions, and properly format the output\n",
    "\n",
    "def confidence_intervals(Ticker, Confidence_level, Type):\n",
    "    alpha = 100 - Confidence_level\n",
    "    if alpha == 0:\n",
    "        s1 = f\"{Ticker} mean interval at {Confidence_level}% level of confidence: [-∞ -- +∞]        \"\n",
    "        s2 = f\"{Ticker} variance interval at {Confidence_level}% level of confidence: [-∞ -- +∞]\"\n",
    "        return s1, s2\n",
    "\n",
    "    if Ticker == 'GM':\n",
    "        dataset = gm['Log_return']\n",
    "    \n",
    "    if Ticker == 'F':\n",
    "        dataset = f['Log_return']\n",
    "    \n",
    "    if Ticker == 'HMC':\n",
    "        dataset = hmc['Log_return']\n",
    "        \n",
    "    if Ticker == 'TM':\n",
    "        dataset = tm['Log_return']\n",
    "        \n",
    "    if Ticker == 'RACE':\n",
    "        dataset = race['Log_return']\n",
    "        \n",
    "    mean_interval = create_interval_mean(alpha, dataset, Type)\n",
    "    var_interval = create_interval_variance(alpha, dataset, Type)\n",
    "    s1 = f\"{Ticker} mean interval at {Confidence_level}% level of confidence: [{mean_interval[0]} -- {mean_interval[1]}]\"\n",
    "    s2 = f\"{Ticker} variance interval at {Confidence_level}% level of confidence: [{var_interval[0]} -- {var_interval[1]}]\"\n",
    "    return s1, s2\n",
    "    "
   ]
  },
  {
   "cell_type": "markdown",
   "id": "8abe257a",
   "metadata": {},
   "source": [
    "<h3>Equal mean Test</h3>"
   ]
  },
  {
   "cell_type": "code",
   "execution_count": 18,
   "id": "a2760096",
   "metadata": {},
   "outputs": [],
   "source": [
    "from scipy.stats import norm\n",
    "\n",
    "#this function tests the h0 hypotesis that mean sample 1 is equal to mean sample 2\n",
    "#it receives:\n",
    "# - dataset sample 1\n",
    "# - dataset sample 2\n",
    "# - an alpha\n",
    "# - h1: mu1!=mu2 or mu1>mu2 or mu1<mu2\n",
    "\n",
    "def test_equal_mean(dataset1, dataset2, alpha, h1):\n",
    "    #calculate the sample means\n",
    "    mean1 = dataset1.mean()\n",
    "    mean2 = dataset2.mean()\n",
    "    \n",
    "    #estiate the variances\n",
    "    s1_squared = statistics.variance(dataset1)\n",
    "    s2_squared = statistics.variance(dataset2)\n",
    "    \n",
    "    #compute the lenght of each sample\n",
    "    n = len(dataset1)\n",
    "    m = len(dataset2)\n",
    "    \n",
    "    #calculate the t-statistic --> no assumption of equal variance\n",
    "    t_stat = (mean1 - mean2)/math.sqrt(s1_squared/n + s2_squared/m)\n",
    "    \n",
    "    #different cases if test bilateral or unilateral\n",
    "    if h1 == 'mu1 != mu2':\n",
    "        p_value = norm.sf(abs(t_stat))*2\n",
    "        perc = norm.ppf((alpha/2)/100) #little z percentile, n and m very big, we can approximate the t-student to the normal\n",
    "        p_value_perc = norm.sf(abs(perc))*2\n",
    "        if p_value<p_value_perc: #Rejection Region\n",
    "            return [False, t_stat, perc, -perc, p_value] #we return all these things because we'll need them to plot\n",
    "        else:\n",
    "            return [True, t_stat, perc, -perc, p_value] #Acceptance region\n",
    "        \n",
    "    if h1 == 'mu1 > mu2':\n",
    "        p_value = norm.sf(t_stat)\n",
    "        perc = -norm.ppf(alpha/100) #in this case we don't divide alpha by 2 (one sided test)\n",
    "        p_value_perc = norm.sf(abs(perc))\n",
    "        if p_value < p_value_perc: #if the p value of our test statistic is lower than the alpha one, we have to reject h0\n",
    "            return [False, t_stat, perc, perc, p_value]\n",
    "        else: #else we can NOT reject h0\n",
    "            return [True, t_stat, perc, perc, p_value]\n",
    "        \n",
    "    if h1 == 'mu1 < mu2':\n",
    "        p_value = 1 - norm.sf(t_stat)\n",
    "        perc = norm.ppf(alpha/100)\n",
    "        p_value_perc = norm.sf(abs(perc))\n",
    "        if p_value<p_value_perc:\n",
    "            return [False, t_stat, perc, perc, p_value]\n",
    "        else:\n",
    "            return [True, t_stat, perc, perc, p_value]\n",
    "        \n",
    "    return False #we will never be here"
   ]
  },
  {
   "cell_type": "code",
   "execution_count": 19,
   "id": "5fbc79cb",
   "metadata": {},
   "outputs": [],
   "source": [
    "#this function calls in a proper manner the test_equal_mean(dataset1, dataset2, alpha, h1)\n",
    "#and properly format the output, creating some graphs\n",
    "\n",
    "def mean_test(Ticker1, Ticker2, h1, Confidence_level):\n",
    "    alpha = 100-Confidence_level\n",
    "    if Ticker1 == 'GM':\n",
    "        dataset1 = gm['Log_return']\n",
    "    \n",
    "    if Ticker1 == 'F':\n",
    "        dataset1 = f['Log_return']\n",
    "    \n",
    "    if Ticker1 == 'HMC':\n",
    "        dataset1 = hmc['Log_return']\n",
    "        \n",
    "    if Ticker1 == 'TM':\n",
    "        dataset1 = tm['Log_return']\n",
    "        \n",
    "    if Ticker1 == 'RACE':\n",
    "        dataset1 = race['Log_return']\n",
    "        \n",
    "    if Ticker2 == 'GM':\n",
    "        dataset2 = gm['Log_return']\n",
    "    \n",
    "    if Ticker2 == 'F':\n",
    "        dataset2 = f['Log_return']\n",
    "    \n",
    "    if Ticker2 == 'HMC':\n",
    "        dataset2 = hmc['Log_return']\n",
    "        \n",
    "    if Ticker2 == 'TM':\n",
    "        dataset2 = tm['Log_return']\n",
    "        \n",
    "    if Ticker2 == 'RACE':\n",
    "        dataset2 = race['Log_return']\n",
    "    \n",
    "    result = test_equal_mean(dataset1, dataset2, alpha, h1) \n",
    "    \n",
    "    x_axis = np.arange(-3, 3, 0.01)\n",
    "    plt.plot(x_axis, norm.pdf(x_axis, 0, 1))\n",
    "    f1 = plt.plot(result[1], 0, linewidth=0, marker='o', color='b', label='Test statistic') #test statistic percentile\n",
    "    f2 = plt.plot(result[2], 0, linewidth=0, marker='x', color='r', label='Critical value(s)') #alpha percentile\n",
    "    f3 = plt.plot(result[3], 0, linewidth=0, marker='x', color='r')\n",
    "    s1 = \"P-value: \" + str(round(result[4]*100,2)) +\"%\" #test statistic p value\n",
    "    sns.despine()\n",
    "    plt.legend()\n",
    "    if result[0]: #if we cannot reject h0\n",
    "        s2 = \"At \"+ str(Confidence_level)+\"% of confidence, we cannot reject the null hypotesis h0 that mean of \"+Ticker1+\" is equal to mean of \"+Ticker2\n",
    "        return s1, s2\n",
    "    else: #if we can reject h0\n",
    "        s2 = \"At \"+ str(Confidence_level)+\"% of confidence, we reject the null hypotesis h0 that mean of \"+Ticker1+\" is equal to mean of \"+Ticker2\n",
    "        return s1, s2\n",
    "        \n",
    "    \n",
    "    "
   ]
  },
  {
   "cell_type": "markdown",
   "id": "452332d1",
   "metadata": {},
   "source": [
    "<h3>Regression between Two Log Returns</h3>"
   ]
  },
  {
   "cell_type": "code",
   "execution_count": 20,
   "id": "7559335f",
   "metadata": {},
   "outputs": [],
   "source": [
    "from scipy import stats\n",
    "\n",
    "#this function receives 2 tickers and create a log return linear regression where the indipendent variable is X_Ticker\n",
    "# and the dependent one is Y_Ticker\n",
    "\n",
    "def log_return_regression(X_Ticker, Y_Ticker):\n",
    "    x=''\n",
    "    y=''\n",
    "    if X_Ticker == 'GM':\n",
    "        x = gm['Log_return']\n",
    "    \n",
    "    if X_Ticker == 'F':\n",
    "        x = f['Log_return']\n",
    "    \n",
    "    if X_Ticker == 'HMC':\n",
    "        x = hmc['Log_return']\n",
    "        \n",
    "    if X_Ticker == 'TM':\n",
    "        x = tm['Log_return']\n",
    "        \n",
    "    if X_Ticker == 'RACE':\n",
    "        x = race['Log_return']\n",
    "        \n",
    "    if Y_Ticker == 'GM':\n",
    "        y = gm['Log_return']\n",
    "    \n",
    "    if Y_Ticker == 'F':\n",
    "        y = f['Log_return']\n",
    "    \n",
    "    if Y_Ticker == 'HMC':\n",
    "        y = hmc['Log_return']\n",
    "        \n",
    "    if Y_Ticker == 'TM':\n",
    "        y = tm['Log_return']\n",
    "        \n",
    "    if Y_Ticker == 'RACE':\n",
    "        y = race['Log_return']\n",
    "\n",
    "    slope, intercept, r, p, std_err = stats.linregress(x, y)\n",
    "\n",
    "    def myfunc(x):\n",
    "      return slope * x + intercept\n",
    "   \n",
    "    #draw the graph\n",
    "    \n",
    "    \n",
    "    mymodel = list(map(myfunc, x))\n",
    "    plt.figure(figsize=(10,5))\n",
    "    plt.scatter(x, y, s=15)\n",
    "    plt.plot(x, mymodel, color = 'red')\n",
    "    x0, xmax = plt.xlim()\n",
    "    y0, ymax = plt.ylim()\n",
    "    data_width = xmax - x0\n",
    "    data_height = ymax - y0\n",
    "    title = f'Linear regression of {X_Ticker} log returns (X variable) on {Y_Ticker} log returns (Y variable)'\n",
    "    plt.title(title, fontsize=20)\n",
    "    plt.ylabel(f'{Y_Ticker} log returns', fontsize=15)\n",
    "    plt.xlabel(f'{X_Ticker} log returns', fontsize=15)\n",
    "    plt.text(x0 + data_width*1.06, y0 + data_height * 0.5, f'$LogReturn({Y_Ticker}) = {round(intercept,3)} + {round(slope,3)} \\cdot LogReturn({X_Ticker})$', fontsize=15) #regression line\n",
    "    plt.text(x0 + data_width * 1.06, y0 + data_height * 0.4, f'$R^2 = {round(r**2,3)}$', fontsize=15) #R-squared\n",
    "    plt.show()"
   ]
  },
  {
   "cell_type": "markdown",
   "id": "2102cfef",
   "metadata": {},
   "source": [
    "<h3>Normal returns and probability plot</h3>"
   ]
  },
  {
   "cell_type": "code",
   "execution_count": 21,
   "id": "a1fae6f0",
   "metadata": {},
   "outputs": [],
   "source": [
    "import statsmodels.graphics.gofplots as sm\n",
    "\n",
    "#this function receives as input the Ticker and generates 2 graphs:\n",
    "# - one containing the stock returns histogram and a normal PDF to see if the stock returns can be aproximated by a normal\n",
    "# - a normal probability plot of the stock returns\n",
    "def generate_graph(Ticker):\n",
    "    x_values = None\n",
    "    if Ticker == 'GM':\n",
    "        x_values = gm['Log_return']\n",
    "    \n",
    "    if Ticker == 'F':\n",
    "        x_values = f['Log_return']\n",
    "    \n",
    "    if Ticker == 'HMC':\n",
    "        x_values = hmc['Log_return']\n",
    "        \n",
    "    if Ticker == 'TM':\n",
    "        x_values = tm['Log_return']\n",
    "        \n",
    "    if Ticker == 'RACE':\n",
    "        x_values = race['Log_return']\n",
    "    \n",
    "    plt.figure(figsize=(10,5))\n",
    "    #Plot stock return Histogram\n",
    "    plt.hist(x_values, bins=100, density=True, alpha=0.6, color='b')\n",
    "\n",
    "    # Plot the normal PDF\n",
    "    xmin, xmax = plt.xlim()\n",
    "    x = np.linspace(xmin, xmax, 100)\n",
    "    p = norm.pdf(x, x_values.mean(), x_values.std())\n",
    "    plt.plot(x, p, 'k', linewidth=2)\n",
    "    title = f\"{Ticker} Returns vs Normal Returns\"\n",
    "    plt.title(title)\n",
    "    \n",
    "    #Plot the Normal Probability plot\n",
    "    plt.figure(figsize=(10,5))\n",
    "    sm.ProbPlot(x_values).qqplot(line='s')\n",
    "    title=f\"{Ticker} Normal Probability plot\"\n",
    "    plt.title(title)\n",
    "    sns.despine()"
   ]
  },
  {
   "cell_type": "markdown",
   "id": "ec842173",
   "metadata": {},
   "source": [
    "<h3>Linear regression on time</h3>"
   ]
  },
  {
   "cell_type": "code",
   "execution_count": 22,
   "id": "ba03f19b",
   "metadata": {},
   "outputs": [],
   "source": [
    "import statsmodels.formula.api as smf\n",
    "\n",
    "#this function creates the regression of a Ticker over time, to try to understand if the time has an impact over the \n",
    "#stock return and if it can be used as a prediction of future returns\n",
    "#it also plots the linear regression\n",
    "def create_regression(Ticker):\n",
    "    if Ticker == 'GM':\n",
    "        dataset = gm.copy() \n",
    "    \n",
    "    if Ticker == 'F':\n",
    "        dataset = f.copy() \n",
    "    \n",
    "    if Ticker == 'HMC':\n",
    "        dataset = hmc.copy()\n",
    "        \n",
    "    if Ticker == 'TM':\n",
    "        dataset = tm.copy()\n",
    "        \n",
    "    if Ticker == 'RACE':\n",
    "        dataset = race.copy()\n",
    "        \n",
    "    dataset['date'] = np.arange(len(dataset))\n",
    "    reg_dataset = smf.ols('Log_return ~ date', data=dataset) #ordinary least squares --> outcome variable ~ all x variables separated by +, database\n",
    "    reg_result_dataset = reg_dataset.fit()\n",
    "    plt.figure(figsize=(14, 8))\n",
    "    plt.plot(dataset['Date'], dataset.Log_return, linewidth=0, marker='x') #points in the dataset\n",
    "    x_points = dataset['Date']\n",
    "    b0_dataset = reg_result_dataset.params[0]\n",
    "    b1_dataset = reg_result_dataset.params[1]\n",
    "    y_points = b0_dataset + b1_dataset*dataset['date'] #regression line\n",
    "    plt.plot(x_points, y_points, linewidth=3)\n",
    "    plt.xticks(fontsize=20)\n",
    "    plt.yticks(fontsize=20)\n",
    "    x0, xmax = plt.xlim()\n",
    "    y0, ymax = plt.ylim()\n",
    "    data_width = xmax - x0\n",
    "    data_height = ymax - y0\n",
    "    plt.text(x0 + data_width*1.06, y0 + data_height * 0.5,f'$y = {round(reg_result_dataset.params[0],4)} + {round(reg_result_dataset.params[1],4)} \\cdot Date$', fontsize=20)\n",
    "    plt.text(x0 + data_width*1.06, y0 + data_height * 0.4, f'$R^2 = {round(reg_result_dataset.rsquared,8)}$', fontsize=20)\n",
    "    plt.xlabel('Date', fontsize=20)\n",
    "    plt.ylabel('Log_Return', fontsize=20)\n",
    "    sns.despine()\n",
    "    reg_result_dataset.summary()"
   ]
  },
  {
   "cell_type": "markdown",
   "id": "5ab47b9a",
   "metadata": {},
   "source": [
    "<h1 style=\"color:red;\">Dashboard</h1>"
   ]
  },
  {
   "cell_type": "markdown",
   "id": "53b705dc",
   "metadata": {},
   "source": [
    "<h3>Normal returns and probability plot</h3>"
   ]
  },
  {
   "cell_type": "code",
   "execution_count": 23,
   "id": "71ca2927",
   "metadata": {},
   "outputs": [],
   "source": [
    "from ipywidgets import interact, FloatSlider"
   ]
  },
  {
   "cell_type": "markdown",
   "id": "2ea27554",
   "metadata": {},
   "source": [
    "Choose a ticker to see if its log return over time can be aproximated by a normal and to see its normal probability plot"
   ]
  },
  {
   "cell_type": "code",
   "execution_count": 24,
   "id": "b85569c7",
   "metadata": {
    "scrolled": false
   },
   "outputs": [
    {
     "data": {
      "application/vnd.jupyter.widget-view+json": {
       "model_id": "95246b1f43c34895bc886f5d76078a0a",
       "version_major": 2,
       "version_minor": 0
      },
      "text/plain": [
       "interactive(children=(Dropdown(description='Ticker', options=('GM', 'F', 'HMC', 'TM', 'RACE'), value='GM'), Ou…"
      ]
     },
     "metadata": {},
     "output_type": "display_data"
    },
    {
     "data": {
      "text/plain": [
       "<function __main__.generate_graph(Ticker)>"
      ]
     },
     "execution_count": 24,
     "metadata": {},
     "output_type": "execute_result"
    }
   ],
   "source": [
    "interact(generate_graph, Ticker = ['GM','F','HMC','TM', 'RACE'])"
   ]
  },
  {
   "cell_type": "markdown",
   "id": "17568ddc",
   "metadata": {},
   "source": [
    "<h3>Confidence Intervals</h3>"
   ]
  },
  {
   "cell_type": "markdown",
   "id": "423d2ec2",
   "metadata": {},
   "source": [
    "Choose a Ticker to see its mean and variance intervals given a confidence level"
   ]
  },
  {
   "cell_type": "code",
   "execution_count": 25,
   "id": "e0af9a03",
   "metadata": {},
   "outputs": [
    {
     "data": {
      "application/vnd.jupyter.widget-view+json": {
       "model_id": "8af48dda36824629bbc2b639d373d2b9",
       "version_major": 2,
       "version_minor": 0
      },
      "text/plain": [
       "interactive(children=(Dropdown(description='Ticker', options=('GM', 'F', 'HMC', 'TM', 'RACE'), value='GM'), Fl…"
      ]
     },
     "metadata": {},
     "output_type": "display_data"
    },
    {
     "data": {
      "text/plain": [
       "<function __main__.confidence_intervals(Ticker, Confidence_level, Type)>"
      ]
     },
     "execution_count": 25,
     "metadata": {},
     "output_type": "execute_result"
    }
   ],
   "source": [
    "interact(confidence_intervals, Ticker = ['GM','F','HMC','TM', 'RACE'], Confidence_level = FloatSlider(min=0, max=100, value=90, continuous_update=False), Type = ['Two sided', 'Lower one sided', 'Upper one sided'])"
   ]
  },
  {
   "cell_type": "markdown",
   "id": "2f097ec9",
   "metadata": {},
   "source": [
    "<h3>Linear Regression over time</h3>"
   ]
  },
  {
   "cell_type": "markdown",
   "id": "d037c4a1",
   "metadata": {},
   "source": [
    "Choose a Ticker to run a linear regression of its log returns over time "
   ]
  },
  {
   "cell_type": "code",
   "execution_count": 26,
   "id": "ae2b4e66",
   "metadata": {},
   "outputs": [
    {
     "data": {
      "application/vnd.jupyter.widget-view+json": {
       "model_id": "025732d44f604323b474be67e6fa1bfc",
       "version_major": 2,
       "version_minor": 0
      },
      "text/plain": [
       "interactive(children=(Dropdown(description='Ticker', options=('GM', 'F', 'HMC', 'TM', 'RACE'), value='GM'), Ou…"
      ]
     },
     "metadata": {},
     "output_type": "display_data"
    },
    {
     "data": {
      "text/plain": [
       "<function __main__.create_regression(Ticker)>"
      ]
     },
     "execution_count": 26,
     "metadata": {},
     "output_type": "execute_result"
    }
   ],
   "source": [
    "interact(create_regression, Ticker = ['GM','F','HMC','TM', 'RACE'])"
   ]
  },
  {
   "cell_type": "markdown",
   "id": "eb46eb05",
   "metadata": {},
   "source": [
    "<h3>Equal mean Test</h3>"
   ]
  },
  {
   "cell_type": "markdown",
   "id": "e7270673",
   "metadata": {},
   "source": [
    "Choose two tickers and a proper alternative hypostesis h1 versus h0: mu1=mu2"
   ]
  },
  {
   "cell_type": "code",
   "execution_count": 27,
   "id": "ab6ca0f5",
   "metadata": {},
   "outputs": [
    {
     "data": {
      "application/vnd.jupyter.widget-view+json": {
       "model_id": "8927e5ea88f0479ba84112a7ab5eb58f",
       "version_major": 2,
       "version_minor": 0
      },
      "text/plain": [
       "interactive(children=(Dropdown(description='Ticker1', options=('GM', 'F', 'HMC', 'TM', 'RACE'), value='GM'), D…"
      ]
     },
     "metadata": {},
     "output_type": "display_data"
    },
    {
     "data": {
      "text/plain": [
       "<function __main__.mean_test(Ticker1, Ticker2, h1, Confidence_level)>"
      ]
     },
     "execution_count": 27,
     "metadata": {},
     "output_type": "execute_result"
    }
   ],
   "source": [
    "interact(mean_test, Ticker1 = ['GM','F','HMC','TM', 'RACE'], Ticker2 = ['GM','F','HMC','TM', 'RACE'], h1 = ['mu1 != mu2', 'mu1 > mu2', 'mu1 < mu2'], Confidence_level = FloatSlider(min=0, max=100, value=90, continuous_update=False))"
   ]
  },
  {
   "cell_type": "markdown",
   "id": "8d950008",
   "metadata": {},
   "source": [
    "<h3>Regression between Two Log Returns</h3>"
   ]
  },
  {
   "cell_type": "markdown",
   "id": "e6c5c1f7",
   "metadata": {},
   "source": [
    "Choose 2 Tickers to run a linear regression of the log returns of one over the other ones"
   ]
  },
  {
   "cell_type": "code",
   "execution_count": 28,
   "id": "bc0188ab",
   "metadata": {},
   "outputs": [
    {
     "data": {
      "application/vnd.jupyter.widget-view+json": {
       "model_id": "9039f018383c4df49b1e1be07884d94b",
       "version_major": 2,
       "version_minor": 0
      },
      "text/plain": [
       "interactive(children=(Dropdown(description='X_Ticker', options=('GM', 'F', 'HMC', 'TM', 'RACE'), value='GM'), …"
      ]
     },
     "metadata": {},
     "output_type": "display_data"
    },
    {
     "data": {
      "text/plain": [
       "<function __main__.log_return_regression(X_Ticker, Y_Ticker)>"
      ]
     },
     "execution_count": 28,
     "metadata": {},
     "output_type": "execute_result"
    }
   ],
   "source": [
    "interact(log_return_regression, X_Ticker = ['GM','F','HMC','TM', 'RACE'], Y_Ticker = ['GM','F','HMC','TM', 'RACE'])"
   ]
  }
 ],
 "metadata": {
  "kernelspec": {
   "display_name": "Python 3 (ipykernel)",
   "language": "python",
   "name": "python3"
  },
  "language_info": {
   "codemirror_mode": {
    "name": "ipython",
    "version": 3
   },
   "file_extension": ".py",
   "mimetype": "text/x-python",
   "name": "python",
   "nbconvert_exporter": "python",
   "pygments_lexer": "ipython3",
   "version": "3.9.12"
  },
  "varInspector": {
   "cols": {
    "lenName": 16,
    "lenType": 16,
    "lenVar": 40
   },
   "kernels_config": {
    "python": {
     "delete_cmd_postfix": "",
     "delete_cmd_prefix": "del ",
     "library": "var_list.py",
     "varRefreshCmd": "print(var_dic_list())"
    },
    "r": {
     "delete_cmd_postfix": ") ",
     "delete_cmd_prefix": "rm(",
     "library": "var_list.r",
     "varRefreshCmd": "cat(var_dic_list()) "
    }
   },
   "types_to_exclude": [
    "module",
    "function",
    "builtin_function_or_method",
    "instance",
    "_Feature"
   ],
   "window_display": false
  }
 },
 "nbformat": 4,
 "nbformat_minor": 5
}
